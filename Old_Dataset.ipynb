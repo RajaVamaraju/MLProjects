{
  "cells": [
    {
      "cell_type": "markdown",
      "id": "af4a23f3",
      "metadata": {
        "id": "af4a23f3"
      },
      "source": [
        "https://catalog.data.gov/dataset/data-breach-notifications-affecting-washington-residents-personal-information-breakdown"
      ]
    },
    {
      "cell_type": "code",
      "execution_count": null,
      "id": "b1d9cf8d",
      "metadata": {
        "id": "b1d9cf8d"
      },
      "outputs": [],
      "source": [
        "import pandas as pd\n",
        "import numpy as np\n",
        "import seaborn as sns\n",
        "from sklearn import metrics\n",
        "import xgboost as xgb\n",
        "from xgboost import XGBClassifier\n",
        "from xgboost import plot_importance\n",
        "import matplotlib.pyplot as plt"
      ]
    },
    {
      "cell_type": "code",
      "execution_count": null,
      "id": "5d1abe13",
      "metadata": {
        "id": "5d1abe13"
      },
      "outputs": [],
      "source": [
        "df=pd.read_csv(r\"C:\\Users\\hp\\Downloads\\Data_Breach_Notifications_Affecting_Washington_Residents__Personal_Information_Breakdown_.csv\")"
      ]
    },
    {
      "cell_type": "code",
      "execution_count": null,
      "id": "68362ad9",
      "metadata": {
        "id": "68362ad9",
        "outputId": "d35a33e1-96e7-4e3f-c299-be3a0d9a716d"
      },
      "outputs": [
        {
          "data": {
            "text/html": [
              "<div>\n",
              "<style scoped>\n",
              "    .dataframe tbody tr th:only-of-type {\n",
              "        vertical-align: middle;\n",
              "    }\n",
              "\n",
              "    .dataframe tbody tr th {\n",
              "        vertical-align: top;\n",
              "    }\n",
              "\n",
              "    .dataframe thead th {\n",
              "        text-align: right;\n",
              "    }\n",
              "</style>\n",
              "<table border=\"1\" class=\"dataframe\">\n",
              "  <thead>\n",
              "    <tr style=\"text-align: right;\">\n",
              "      <th></th>\n",
              "      <th>Id</th>\n",
              "      <th>DateAware</th>\n",
              "      <th>DateSubmitted</th>\n",
              "      <th>DataBreachCause</th>\n",
              "      <th>DateStart</th>\n",
              "      <th>DateEnd</th>\n",
              "      <th>Name</th>\n",
              "      <th>CyberattackType</th>\n",
              "      <th>WashingtoniansAffected</th>\n",
              "      <th>IndustryType</th>\n",
              "      <th>BusinessType</th>\n",
              "      <th>InformationType</th>\n",
              "      <th>Year</th>\n",
              "      <th>WashingtoniansAffectedRange</th>\n",
              "      <th>BreachLifecycleRange</th>\n",
              "    </tr>\n",
              "  </thead>\n",
              "  <tbody>\n",
              "    <tr>\n",
              "      <th>0</th>\n",
              "      <td>9561</td>\n",
              "      <td>03/28/2018 12:00:00 AM</td>\n",
              "      <td>04/11/2018 12:00:00 AM</td>\n",
              "      <td>Cyberattack</td>\n",
              "      <td>2017-09-26T00:00:00</td>\n",
              "      <td>2017-10-12T00:00:00</td>\n",
              "      <td>Delta Airlines</td>\n",
              "      <td>Malware</td>\n",
              "      <td>24563.0</td>\n",
              "      <td>Business</td>\n",
              "      <td>Software</td>\n",
              "      <td>Name</td>\n",
              "      <td>2018</td>\n",
              "      <td>10,000-49,999</td>\n",
              "      <td>100-199</td>\n",
              "    </tr>\n",
              "    <tr>\n",
              "      <th>1</th>\n",
              "      <td>9561</td>\n",
              "      <td>03/28/2018 12:00:00 AM</td>\n",
              "      <td>04/11/2018 12:00:00 AM</td>\n",
              "      <td>Cyberattack</td>\n",
              "      <td>2017-09-26T00:00:00</td>\n",
              "      <td>2017-10-12T00:00:00</td>\n",
              "      <td>Delta Airlines</td>\n",
              "      <td>Malware</td>\n",
              "      <td>24563.0</td>\n",
              "      <td>Business</td>\n",
              "      <td>Software</td>\n",
              "      <td>Financial &amp; Banking Information</td>\n",
              "      <td>2018</td>\n",
              "      <td>10,000-49,999</td>\n",
              "      <td>100-199</td>\n",
              "    </tr>\n",
              "    <tr>\n",
              "      <th>2</th>\n",
              "      <td>9561</td>\n",
              "      <td>03/28/2018 12:00:00 AM</td>\n",
              "      <td>04/11/2018 12:00:00 AM</td>\n",
              "      <td>Cyberattack</td>\n",
              "      <td>2017-09-26T00:00:00</td>\n",
              "      <td>2017-10-12T00:00:00</td>\n",
              "      <td>Delta Airlines</td>\n",
              "      <td>Malware</td>\n",
              "      <td>24563.0</td>\n",
              "      <td>Business</td>\n",
              "      <td>Software</td>\n",
              "      <td>Other</td>\n",
              "      <td>2018</td>\n",
              "      <td>10,000-49,999</td>\n",
              "      <td>100-199</td>\n",
              "    </tr>\n",
              "    <tr>\n",
              "      <th>3</th>\n",
              "      <td>9562</td>\n",
              "      <td>03/28/2018 12:00:00 AM</td>\n",
              "      <td>04/13/2018 12:00:00 AM</td>\n",
              "      <td>Cyberattack</td>\n",
              "      <td>2017-09-26T00:00:00</td>\n",
              "      <td>2017-10-12T00:00:00</td>\n",
              "      <td>Best Buy Co, Inc.</td>\n",
              "      <td>Malware</td>\n",
              "      <td>8390.0</td>\n",
              "      <td>Business</td>\n",
              "      <td>Retail</td>\n",
              "      <td>Name</td>\n",
              "      <td>2018</td>\n",
              "      <td>1,000-9,999</td>\n",
              "      <td>100-199</td>\n",
              "    </tr>\n",
              "    <tr>\n",
              "      <th>4</th>\n",
              "      <td>9562</td>\n",
              "      <td>03/28/2018 12:00:00 AM</td>\n",
              "      <td>04/13/2018 12:00:00 AM</td>\n",
              "      <td>Cyberattack</td>\n",
              "      <td>2017-09-26T00:00:00</td>\n",
              "      <td>2017-10-12T00:00:00</td>\n",
              "      <td>Best Buy Co, Inc.</td>\n",
              "      <td>Malware</td>\n",
              "      <td>8390.0</td>\n",
              "      <td>Business</td>\n",
              "      <td>Retail</td>\n",
              "      <td>Financial &amp; Banking Information</td>\n",
              "      <td>2018</td>\n",
              "      <td>1,000-9,999</td>\n",
              "      <td>100-199</td>\n",
              "    </tr>\n",
              "  </tbody>\n",
              "</table>\n",
              "</div>"
            ],
            "text/plain": [
              "     Id               DateAware           DateSubmitted DataBreachCause  \\\n",
              "0  9561  03/28/2018 12:00:00 AM  04/11/2018 12:00:00 AM     Cyberattack   \n",
              "1  9561  03/28/2018 12:00:00 AM  04/11/2018 12:00:00 AM     Cyberattack   \n",
              "2  9561  03/28/2018 12:00:00 AM  04/11/2018 12:00:00 AM     Cyberattack   \n",
              "3  9562  03/28/2018 12:00:00 AM  04/13/2018 12:00:00 AM     Cyberattack   \n",
              "4  9562  03/28/2018 12:00:00 AM  04/13/2018 12:00:00 AM     Cyberattack   \n",
              "\n",
              "             DateStart              DateEnd               Name  \\\n",
              "0  2017-09-26T00:00:00  2017-10-12T00:00:00     Delta Airlines   \n",
              "1  2017-09-26T00:00:00  2017-10-12T00:00:00     Delta Airlines   \n",
              "2  2017-09-26T00:00:00  2017-10-12T00:00:00     Delta Airlines   \n",
              "3  2017-09-26T00:00:00  2017-10-12T00:00:00  Best Buy Co, Inc.   \n",
              "4  2017-09-26T00:00:00  2017-10-12T00:00:00  Best Buy Co, Inc.   \n",
              "\n",
              "  CyberattackType  WashingtoniansAffected IndustryType BusinessType  \\\n",
              "0         Malware                 24563.0     Business     Software   \n",
              "1         Malware                 24563.0     Business     Software   \n",
              "2         Malware                 24563.0     Business     Software   \n",
              "3         Malware                  8390.0     Business       Retail   \n",
              "4         Malware                  8390.0     Business       Retail   \n",
              "\n",
              "                   InformationType  Year WashingtoniansAffectedRange  \\\n",
              "0                             Name  2018               10,000-49,999   \n",
              "1  Financial & Banking Information  2018               10,000-49,999   \n",
              "2                            Other  2018               10,000-49,999   \n",
              "3                             Name  2018                 1,000-9,999   \n",
              "4  Financial & Banking Information  2018                 1,000-9,999   \n",
              "\n",
              "  BreachLifecycleRange  \n",
              "0              100-199  \n",
              "1              100-199  \n",
              "2              100-199  \n",
              "3              100-199  \n",
              "4              100-199  "
            ]
          },
          "execution_count": 81,
          "metadata": {},
          "output_type": "execute_result"
        }
      ],
      "source": [
        "df.head()"
      ]
    },
    {
      "cell_type": "code",
      "execution_count": null,
      "id": "713a94ec",
      "metadata": {
        "id": "713a94ec",
        "outputId": "3f00daa6-47ba-4abf-d9dc-b00946abd505"
      },
      "outputs": [
        {
          "data": {
            "text/plain": [
              "(4018, 15)"
            ]
          },
          "execution_count": 82,
          "metadata": {},
          "output_type": "execute_result"
        }
      ],
      "source": [
        "df.shape"
      ]
    },
    {
      "cell_type": "code",
      "execution_count": null,
      "id": "6fbc6adf",
      "metadata": {
        "id": "6fbc6adf",
        "outputId": "2132f0a2-598b-46ff-ea89-814ca2b4e50f"
      },
      "outputs": [
        {
          "data": {
            "text/plain": [
              "Id                                0\n",
              "DateAware                        81\n",
              "DateSubmitted                     0\n",
              "DataBreachCause                   0\n",
              "DateStart                       553\n",
              "DateEnd                         781\n",
              "Name                              0\n",
              "CyberattackType                1154\n",
              "WashingtoniansAffected           82\n",
              "IndustryType                      0\n",
              "BusinessType                   2255\n",
              "InformationType                   0\n",
              "Year                              0\n",
              "WashingtoniansAffectedRange       0\n",
              "BreachLifecycleRange              0\n",
              "dtype: int64"
            ]
          },
          "execution_count": 4,
          "metadata": {},
          "output_type": "execute_result"
        }
      ],
      "source": [
        "df.isna().sum()"
      ]
    },
    {
      "cell_type": "code",
      "execution_count": null,
      "id": "6b0d2500",
      "metadata": {
        "id": "6b0d2500"
      },
      "outputs": [],
      "source": [
        "df.drop(columns=['Id', 'Name' ,'DateAware', 'DateSubmitted','DateStart', 'DateEnd'],inplace=True)"
      ]
    },
    {
      "cell_type": "code",
      "execution_count": null,
      "id": "d7306bda",
      "metadata": {
        "scrolled": false,
        "id": "d7306bda",
        "outputId": "19d1ad5c-ced1-4f9c-e068-02f7127d01cb"
      },
      "outputs": [
        {
          "data": {
            "text/plain": [
              "DataBreachCause                  0.0%\n",
              "CyberattackType                28.72%\n",
              "WashingtoniansAffected          2.04%\n",
              "IndustryType                     0.0%\n",
              "BusinessType                   56.12%\n",
              "InformationType                  0.0%\n",
              "Year                             0.0%\n",
              "WashingtoniansAffectedRange      0.0%\n",
              "BreachLifecycleRange             0.0%\n",
              "dtype: object"
            ]
          },
          "execution_count": 6,
          "metadata": {},
          "output_type": "execute_result"
        }
      ],
      "source": [
        "np.round((df.isna().sum()/len(df))*100,2).astype(str)+'%'"
      ]
    },
    {
      "cell_type": "code",
      "execution_count": null,
      "id": "5074ce0a",
      "metadata": {
        "id": "5074ce0a",
        "outputId": "e327abbf-8e68-49af-ef0c-5769e6bb2b76"
      },
      "outputs": [
        {
          "data": {
            "text/plain": [
              "DataBreachCause                 object\n",
              "CyberattackType                 object\n",
              "WashingtoniansAffected         float64\n",
              "IndustryType                    object\n",
              "BusinessType                    object\n",
              "InformationType                 object\n",
              "Year                             int64\n",
              "WashingtoniansAffectedRange     object\n",
              "BreachLifecycleRange            object\n",
              "dtype: object"
            ]
          },
          "execution_count": 7,
          "metadata": {},
          "output_type": "execute_result"
        }
      ],
      "source": [
        "df.dtypes"
      ]
    },
    {
      "cell_type": "code",
      "execution_count": null,
      "id": "523f6019",
      "metadata": {
        "id": "523f6019",
        "outputId": "a247596f-8b6a-4b13-8c8c-3c449c4e6a1d"
      },
      "outputs": [
        {
          "data": {
            "text/plain": [
              "array(['Name', 'Financial & Banking Information', 'Other',\n",
              "       'Health Insurance Policy or ID Number', 'Medical Information',\n",
              "       'Username and Password/Security Question Answers',\n",
              "       'Full Date of Birth', 'Social Security Number',\n",
              "       \"Driver's License or Washington ID Card Number\",\n",
              "       'Email Address and Password/Security Question Answers',\n",
              "       'Military ID Number', 'Passport Number', 'Student ID Number',\n",
              "       'Unique Private Key (e.g. used to authenticate or sign an electronic record)',\n",
              "       'Biometric Data'], dtype=object)"
            ]
          },
          "execution_count": 8,
          "metadata": {},
          "output_type": "execute_result"
        }
      ],
      "source": [
        "df.InformationType.unique()"
      ]
    },
    {
      "cell_type": "code",
      "execution_count": null,
      "id": "b0c0e6d3",
      "metadata": {
        "id": "b0c0e6d3",
        "outputId": "9438df33-ac1f-4f7f-e383-2fdb2f6ce0d1"
      },
      "outputs": [
        {
          "data": {
            "text/html": [
              "<div>\n",
              "<style scoped>\n",
              "    .dataframe tbody tr th:only-of-type {\n",
              "        vertical-align: middle;\n",
              "    }\n",
              "\n",
              "    .dataframe tbody tr th {\n",
              "        vertical-align: top;\n",
              "    }\n",
              "\n",
              "    .dataframe thead th {\n",
              "        text-align: right;\n",
              "    }\n",
              "</style>\n",
              "<table border=\"1\" class=\"dataframe\">\n",
              "  <thead>\n",
              "    <tr style=\"text-align: right;\">\n",
              "      <th></th>\n",
              "      <th>WashingtoniansAffected</th>\n",
              "      <th>Year</th>\n",
              "    </tr>\n",
              "  </thead>\n",
              "  <tbody>\n",
              "    <tr>\n",
              "      <th>count</th>\n",
              "      <td>3.936000e+03</td>\n",
              "      <td>4018.000000</td>\n",
              "    </tr>\n",
              "    <tr>\n",
              "      <th>mean</th>\n",
              "      <td>2.696853e+04</td>\n",
              "      <td>2021.064211</td>\n",
              "    </tr>\n",
              "    <tr>\n",
              "      <th>std</th>\n",
              "      <td>1.408230e+05</td>\n",
              "      <td>2.040262</td>\n",
              "    </tr>\n",
              "    <tr>\n",
              "      <th>min</th>\n",
              "      <td>1.500000e+01</td>\n",
              "      <td>2016.000000</td>\n",
              "    </tr>\n",
              "    <tr>\n",
              "      <th>25%</th>\n",
              "      <td>8.670000e+02</td>\n",
              "      <td>2020.000000</td>\n",
              "    </tr>\n",
              "    <tr>\n",
              "      <th>50%</th>\n",
              "      <td>1.709000e+03</td>\n",
              "      <td>2021.000000</td>\n",
              "    </tr>\n",
              "    <tr>\n",
              "      <th>75%</th>\n",
              "      <td>6.797000e+03</td>\n",
              "      <td>2023.000000</td>\n",
              "    </tr>\n",
              "    <tr>\n",
              "      <th>max</th>\n",
              "      <td>2.079648e+06</td>\n",
              "      <td>2024.000000</td>\n",
              "    </tr>\n",
              "  </tbody>\n",
              "</table>\n",
              "</div>"
            ],
            "text/plain": [
              "       WashingtoniansAffected         Year\n",
              "count            3.936000e+03  4018.000000\n",
              "mean             2.696853e+04  2021.064211\n",
              "std              1.408230e+05     2.040262\n",
              "min              1.500000e+01  2016.000000\n",
              "25%              8.670000e+02  2020.000000\n",
              "50%              1.709000e+03  2021.000000\n",
              "75%              6.797000e+03  2023.000000\n",
              "max              2.079648e+06  2024.000000"
            ]
          },
          "execution_count": 9,
          "metadata": {},
          "output_type": "execute_result"
        }
      ],
      "source": [
        "df.describe()"
      ]
    },
    {
      "cell_type": "code",
      "execution_count": null,
      "id": "a2e80506",
      "metadata": {
        "id": "a2e80506",
        "outputId": "e924bcb2-45fc-43a7-80d5-fd19b534ab11"
      },
      "outputs": [
        {
          "data": {
            "text/plain": [
              "array(['Malware', nan, 'Unclear/unknown', 'Phishing', 'Other', 'Skimmers',\n",
              "       'Ransomware'], dtype=object)"
            ]
          },
          "execution_count": 10,
          "metadata": {},
          "output_type": "execute_result"
        }
      ],
      "source": [
        "df.CyberattackType.unique()"
      ]
    },
    {
      "cell_type": "code",
      "execution_count": null,
      "id": "c57239f8",
      "metadata": {
        "id": "c57239f8",
        "outputId": "7bf629e1-bbf2-483d-eb11-23ff0dfd3fd2"
      },
      "outputs": [
        {
          "name": "stderr",
          "output_type": "stream",
          "text": [
            "C:\\Users\\hp\\AppData\\Local\\Temp\\ipykernel_20892\\2266665028.py:4: FutureWarning: The default value of regex will change from True to False in a future version.\n",
            "  df.InformationType=df['InformationType'].str.replace(r\"\\(.*\\)\",\"\")\n"
          ]
        }
      ],
      "source": [
        "df.CyberattackType=df['CyberattackType'].str.replace(\"/\",\"or\")\n",
        "df.IndustryType=df['IndustryType'].str.replace(\"/\",\"or\")\n",
        "df.InformationType=df['InformationType'].str.replace(\"/\",\"or\")\n",
        "df.InformationType=df['InformationType'].str.replace(r\"\\(.*\\)\",\"\")\n",
        "# df.Name=df['Name'].str.replace(r\"\\(.*\\)\",\"\")\n",
        "df.WashingtoniansAffectedRange=df['WashingtoniansAffectedRange'].str.replace(\"-\",\" to \")\n",
        "df.BreachLifecycleRange=df['BreachLifecycleRange'].str.replace(\"-\",\" to \")\n",
        "df.IndustryType=df['IndustryType'].str.replace(\"Non-ProfitorCharity\",\" No Charity\")\n"
      ]
    },
    {
      "cell_type": "code",
      "execution_count": null,
      "id": "9b686199",
      "metadata": {
        "id": "9b686199",
        "outputId": "3209a099-9379-4109-b187-5854d73b6d2c"
      },
      "outputs": [
        {
          "data": {
            "text/plain": [
              "array(['Name', 'Financial & Banking Information', 'Other',\n",
              "       'Health Insurance Policy or ID Number', 'Medical Information',\n",
              "       'Username and PasswordorSecurity Question Answers',\n",
              "       'Full Date of Birth', 'Social Security Number',\n",
              "       \"Driver's License or Washington ID Card Number\",\n",
              "       'Email Address and PasswordorSecurity Question Answers',\n",
              "       'Military ID Number', 'Passport Number', 'Student ID Number',\n",
              "       'Unique Private Key ', 'Biometric Data'], dtype=object)"
            ]
          },
          "execution_count": 13,
          "metadata": {},
          "output_type": "execute_result"
        }
      ],
      "source": [
        "df.InformationType.unique()"
      ]
    },
    {
      "cell_type": "code",
      "execution_count": null,
      "id": "c6742ef9",
      "metadata": {
        "id": "c6742ef9"
      },
      "outputs": [],
      "source": [
        "df.CyberattackType.fillna(df.CyberattackType.mode()[0],inplace=True)\n",
        "df.WashingtoniansAffected.fillna(df.WashingtoniansAffected.median(),inplace=True)\n",
        "df.BusinessType.fillna(df.BusinessType.mode()[0],inplace=True)"
      ]
    },
    {
      "cell_type": "code",
      "execution_count": null,
      "id": "cdf1128f",
      "metadata": {
        "id": "cdf1128f"
      },
      "outputs": [],
      "source": [
        "# # emp_promo.region=emp_promo[\"region\"].astype('int')\n",
        "df.WashingtoniansAffected=df['WashingtoniansAffected'].astype('int')"
      ]
    },
    {
      "cell_type": "code",
      "execution_count": null,
      "id": "84a7d6fc",
      "metadata": {
        "id": "84a7d6fc",
        "outputId": "f1a66c3d-a2f6-44fe-e394-46e003527683"
      },
      "outputs": [
        {
          "data": {
            "text/plain": [
              "DataBreachCause                0\n",
              "CyberattackType                0\n",
              "WashingtoniansAffected         0\n",
              "IndustryType                   0\n",
              "BusinessType                   0\n",
              "InformationType                0\n",
              "Year                           0\n",
              "WashingtoniansAffectedRange    0\n",
              "BreachLifecycleRange           0\n",
              "dtype: int64"
            ]
          },
          "execution_count": 16,
          "metadata": {},
          "output_type": "execute_result"
        }
      ],
      "source": [
        "df.isna().sum()"
      ]
    },
    {
      "cell_type": "code",
      "execution_count": null,
      "id": "d1c46e78",
      "metadata": {
        "id": "d1c46e78",
        "outputId": "1eb79c22-a834-456d-f01c-569d181539e5"
      },
      "outputs": [
        {
          "data": {
            "text/plain": [
              "Index(['DataBreachCause', 'CyberattackType', 'WashingtoniansAffected',\n",
              "       'IndustryType', 'BusinessType', 'InformationType', 'Year',\n",
              "       'WashingtoniansAffectedRange', 'BreachLifecycleRange'],\n",
              "      dtype='object')"
            ]
          },
          "execution_count": 17,
          "metadata": {},
          "output_type": "execute_result"
        }
      ],
      "source": [
        "df.columns"
      ]
    },
    {
      "cell_type": "code",
      "execution_count": null,
      "id": "4c168856",
      "metadata": {
        "id": "4c168856",
        "outputId": "cdd77d0e-d695-480f-ead9-49ee24764801"
      },
      "outputs": [
        {
          "data": {
            "text/plain": [
              "False    3968\n",
              "True       50\n",
              "dtype: int64"
            ]
          },
          "execution_count": 18,
          "metadata": {},
          "output_type": "execute_result"
        }
      ],
      "source": [
        "df.duplicated().value_counts()"
      ]
    },
    {
      "cell_type": "code",
      "execution_count": null,
      "id": "13d52154",
      "metadata": {
        "id": "13d52154"
      },
      "outputs": [],
      "source": [
        "# df[df.duplicated()]"
      ]
    },
    {
      "cell_type": "code",
      "execution_count": null,
      "id": "e2278e95",
      "metadata": {
        "id": "e2278e95",
        "outputId": "26310709-0358-413f-b3c7-dea3fad88ada"
      },
      "outputs": [
        {
          "data": {
            "text/html": [
              "<div>\n",
              "<style scoped>\n",
              "    .dataframe tbody tr th:only-of-type {\n",
              "        vertical-align: middle;\n",
              "    }\n",
              "\n",
              "    .dataframe tbody tr th {\n",
              "        vertical-align: top;\n",
              "    }\n",
              "\n",
              "    .dataframe thead th {\n",
              "        text-align: right;\n",
              "    }\n",
              "</style>\n",
              "<table border=\"1\" class=\"dataframe\">\n",
              "  <thead>\n",
              "    <tr style=\"text-align: right;\">\n",
              "      <th></th>\n",
              "      <th>DataBreachCause</th>\n",
              "      <th>CyberattackType</th>\n",
              "      <th>WashingtoniansAffected</th>\n",
              "      <th>IndustryType</th>\n",
              "      <th>BusinessType</th>\n",
              "      <th>InformationType</th>\n",
              "      <th>Year</th>\n",
              "      <th>WashingtoniansAffectedRange</th>\n",
              "      <th>BreachLifecycleRange</th>\n",
              "    </tr>\n",
              "  </thead>\n",
              "  <tbody>\n",
              "    <tr>\n",
              "      <th>0</th>\n",
              "      <td>Cyberattack</td>\n",
              "      <td>Malware</td>\n",
              "      <td>24563</td>\n",
              "      <td>Business</td>\n",
              "      <td>Software</td>\n",
              "      <td>Name</td>\n",
              "      <td>2018</td>\n",
              "      <td>10,000 to 49,999</td>\n",
              "      <td>100 to 199</td>\n",
              "    </tr>\n",
              "    <tr>\n",
              "      <th>1</th>\n",
              "      <td>Cyberattack</td>\n",
              "      <td>Malware</td>\n",
              "      <td>24563</td>\n",
              "      <td>Business</td>\n",
              "      <td>Software</td>\n",
              "      <td>Financial &amp; Banking Information</td>\n",
              "      <td>2018</td>\n",
              "      <td>10,000 to 49,999</td>\n",
              "      <td>100 to 199</td>\n",
              "    </tr>\n",
              "    <tr>\n",
              "      <th>2</th>\n",
              "      <td>Cyberattack</td>\n",
              "      <td>Malware</td>\n",
              "      <td>24563</td>\n",
              "      <td>Business</td>\n",
              "      <td>Software</td>\n",
              "      <td>Other</td>\n",
              "      <td>2018</td>\n",
              "      <td>10,000 to 49,999</td>\n",
              "      <td>100 to 199</td>\n",
              "    </tr>\n",
              "    <tr>\n",
              "      <th>3</th>\n",
              "      <td>Cyberattack</td>\n",
              "      <td>Malware</td>\n",
              "      <td>8390</td>\n",
              "      <td>Business</td>\n",
              "      <td>Retail</td>\n",
              "      <td>Name</td>\n",
              "      <td>2018</td>\n",
              "      <td>1,000 to 9,999</td>\n",
              "      <td>100 to 199</td>\n",
              "    </tr>\n",
              "    <tr>\n",
              "      <th>4</th>\n",
              "      <td>Cyberattack</td>\n",
              "      <td>Malware</td>\n",
              "      <td>8390</td>\n",
              "      <td>Business</td>\n",
              "      <td>Retail</td>\n",
              "      <td>Financial &amp; Banking Information</td>\n",
              "      <td>2018</td>\n",
              "      <td>1,000 to 9,999</td>\n",
              "      <td>100 to 199</td>\n",
              "    </tr>\n",
              "    <tr>\n",
              "      <th>...</th>\n",
              "      <td>...</td>\n",
              "      <td>...</td>\n",
              "      <td>...</td>\n",
              "      <td>...</td>\n",
              "      <td>...</td>\n",
              "      <td>...</td>\n",
              "      <td>...</td>\n",
              "      <td>...</td>\n",
              "      <td>...</td>\n",
              "    </tr>\n",
              "    <tr>\n",
              "      <th>4013</th>\n",
              "      <td>Cyberattack</td>\n",
              "      <td>Ransomware</td>\n",
              "      <td>1331</td>\n",
              "      <td>Education</td>\n",
              "      <td>Other</td>\n",
              "      <td>Full Date of Birth</td>\n",
              "      <td>2024</td>\n",
              "      <td>1,000 to 9,999</td>\n",
              "      <td>1 to 99</td>\n",
              "    </tr>\n",
              "    <tr>\n",
              "      <th>4014</th>\n",
              "      <td>Cyberattack</td>\n",
              "      <td>Other</td>\n",
              "      <td>554</td>\n",
              "      <td>Business</td>\n",
              "      <td>Software</td>\n",
              "      <td>Name</td>\n",
              "      <td>2024</td>\n",
              "      <td>500 to 999</td>\n",
              "      <td>1 to 99</td>\n",
              "    </tr>\n",
              "    <tr>\n",
              "      <th>4015</th>\n",
              "      <td>Cyberattack</td>\n",
              "      <td>Other</td>\n",
              "      <td>554</td>\n",
              "      <td>Business</td>\n",
              "      <td>Software</td>\n",
              "      <td>Full Date of Birth</td>\n",
              "      <td>2024</td>\n",
              "      <td>500 to 999</td>\n",
              "      <td>1 to 99</td>\n",
              "    </tr>\n",
              "    <tr>\n",
              "      <th>4016</th>\n",
              "      <td>Cyberattack</td>\n",
              "      <td>Other</td>\n",
              "      <td>554</td>\n",
              "      <td>Business</td>\n",
              "      <td>Software</td>\n",
              "      <td>Health Insurance Policy or ID Number</td>\n",
              "      <td>2024</td>\n",
              "      <td>500 to 999</td>\n",
              "      <td>1 to 99</td>\n",
              "    </tr>\n",
              "    <tr>\n",
              "      <th>4017</th>\n",
              "      <td>Cyberattack</td>\n",
              "      <td>Other</td>\n",
              "      <td>554</td>\n",
              "      <td>Business</td>\n",
              "      <td>Software</td>\n",
              "      <td>Medical Information</td>\n",
              "      <td>2024</td>\n",
              "      <td>500 to 999</td>\n",
              "      <td>1 to 99</td>\n",
              "    </tr>\n",
              "  </tbody>\n",
              "</table>\n",
              "<p>4018 rows × 9 columns</p>\n",
              "</div>"
            ],
            "text/plain": [
              "     DataBreachCause CyberattackType  WashingtoniansAffected IndustryType  \\\n",
              "0        Cyberattack         Malware                   24563     Business   \n",
              "1        Cyberattack         Malware                   24563     Business   \n",
              "2        Cyberattack         Malware                   24563     Business   \n",
              "3        Cyberattack         Malware                    8390     Business   \n",
              "4        Cyberattack         Malware                    8390     Business   \n",
              "...              ...             ...                     ...          ...   \n",
              "4013     Cyberattack      Ransomware                    1331    Education   \n",
              "4014     Cyberattack           Other                     554     Business   \n",
              "4015     Cyberattack           Other                     554     Business   \n",
              "4016     Cyberattack           Other                     554     Business   \n",
              "4017     Cyberattack           Other                     554     Business   \n",
              "\n",
              "     BusinessType                       InformationType  Year  \\\n",
              "0        Software                                  Name  2018   \n",
              "1        Software       Financial & Banking Information  2018   \n",
              "2        Software                                 Other  2018   \n",
              "3          Retail                                  Name  2018   \n",
              "4          Retail       Financial & Banking Information  2018   \n",
              "...           ...                                   ...   ...   \n",
              "4013        Other                    Full Date of Birth  2024   \n",
              "4014     Software                                  Name  2024   \n",
              "4015     Software                    Full Date of Birth  2024   \n",
              "4016     Software  Health Insurance Policy or ID Number  2024   \n",
              "4017     Software                   Medical Information  2024   \n",
              "\n",
              "     WashingtoniansAffectedRange BreachLifecycleRange  \n",
              "0               10,000 to 49,999           100 to 199  \n",
              "1               10,000 to 49,999           100 to 199  \n",
              "2               10,000 to 49,999           100 to 199  \n",
              "3                 1,000 to 9,999           100 to 199  \n",
              "4                 1,000 to 9,999           100 to 199  \n",
              "...                          ...                  ...  \n",
              "4013              1,000 to 9,999              1 to 99  \n",
              "4014                  500 to 999              1 to 99  \n",
              "4015                  500 to 999              1 to 99  \n",
              "4016                  500 to 999              1 to 99  \n",
              "4017                  500 to 999              1 to 99  \n",
              "\n",
              "[4018 rows x 9 columns]"
            ]
          },
          "execution_count": 20,
          "metadata": {},
          "output_type": "execute_result"
        }
      ],
      "source": [
        "df"
      ]
    },
    {
      "cell_type": "code",
      "execution_count": null,
      "id": "8e6a3d43",
      "metadata": {
        "id": "8e6a3d43",
        "outputId": "5422f1c2-ef58-4c45-853a-cd290fcb1e82"
      },
      "outputs": [
        {
          "data": {
            "text/plain": [
              "array(['10,000 to 49,999', '1,000 to 9,999', '500 to 999', 'Unknown',\n",
              "       '50,000 to 999,999', '< 500', '1,000,000+'], dtype=object)"
            ]
          },
          "execution_count": 21,
          "metadata": {},
          "output_type": "execute_result"
        }
      ],
      "source": [
        "df.WashingtoniansAffectedRange.unique()"
      ]
    },
    {
      "cell_type": "code",
      "execution_count": null,
      "id": "8dabb475",
      "metadata": {
        "id": "8dabb475"
      },
      "outputs": [],
      "source": [
        "l=[]\n",
        "for i in df.WashingtoniansAffectedRange:\n",
        "    if i=='<500':\n",
        "        l.append(1)\n",
        "    elif i=='500 to 999':\n",
        "        l.append(2)\n",
        "\n",
        "    elif i=='1,000 to 9,999':\n",
        "        l.append(2)\n",
        "\n",
        "    elif i=='10,000 to 49,000':\n",
        "        l.append(4)\n",
        "\n",
        "    elif i=='50,000 to 999,999':\n",
        "        l.append(5)\n",
        "\n",
        "    elif i=='1,000,000+':\n",
        "        l.append(6)\n",
        "\n",
        "    else:\n",
        "        l.append(7)"
      ]
    },
    {
      "cell_type": "code",
      "execution_count": null,
      "id": "83b6df5c",
      "metadata": {
        "id": "83b6df5c",
        "outputId": "4e7e2334-4653-4938-d401-01bddd6934ea"
      },
      "outputs": [
        {
          "data": {
            "text/plain": [
              "0    10,000 to 49,999\n",
              "1    10,000 to 49,999\n",
              "2    10,000 to 49,999\n",
              "3      1,000 to 9,999\n",
              "4      1,000 to 9,999\n",
              "5      1,000 to 9,999\n",
              "6          500 to 999\n",
              "7          500 to 999\n",
              "8          500 to 999\n",
              "9          500 to 999\n",
              "Name: WashingtoniansAffectedRange, dtype: object"
            ]
          },
          "execution_count": 23,
          "metadata": {},
          "output_type": "execute_result"
        }
      ],
      "source": [
        "df.WashingtoniansAffectedRange[:10]"
      ]
    },
    {
      "cell_type": "code",
      "execution_count": null,
      "id": "90571bcc",
      "metadata": {
        "id": "90571bcc",
        "outputId": "a5bd0556-34a9-4cbb-eba4-2599b0228154"
      },
      "outputs": [
        {
          "data": {
            "text/plain": [
              "0    7\n",
              "1    7\n",
              "2    7\n",
              "3    2\n",
              "4    2\n",
              "5    2\n",
              "6    2\n",
              "7    2\n",
              "8    2\n",
              "9    2\n",
              "Name: WashingtoniansAffectedRange, dtype: int64"
            ]
          },
          "execution_count": 24,
          "metadata": {},
          "output_type": "execute_result"
        }
      ],
      "source": [
        "df.WashingtoniansAffectedRange=l\n",
        "df.WashingtoniansAffectedRange[:10]"
      ]
    },
    {
      "cell_type": "code",
      "execution_count": null,
      "id": "b7c7d579",
      "metadata": {
        "id": "b7c7d579",
        "outputId": "927cda42-8dbe-4faf-c4ce-d33a2de28414"
      },
      "outputs": [
        {
          "data": {
            "text/plain": [
              "array(['100 to 199', 'Unknown', '200 to 299', '1 to 99', '0',\n",
              "       '300 to 399', '500+', '400 to 499'], dtype=object)"
            ]
          },
          "execution_count": 25,
          "metadata": {},
          "output_type": "execute_result"
        }
      ],
      "source": [
        "df.BreachLifecycleRange.unique()"
      ]
    },
    {
      "cell_type": "code",
      "execution_count": null,
      "id": "5db67625",
      "metadata": {
        "id": "5db67625"
      },
      "outputs": [],
      "source": [
        "l=[]\n",
        "for i in df.BreachLifecycleRange:\n",
        "    if i=='1 to 99':\n",
        "        l.append(1)\n",
        "    elif i=='100 to 199':\n",
        "        l.append(2)\n",
        "\n",
        "    elif i=='200 to 299':\n",
        "        l.append(2)\n",
        "\n",
        "    elif i=='300 to 399':\n",
        "        l.append(4)\n",
        "\n",
        "    elif i=='400 to 499':\n",
        "        l.append(5)\n",
        "\n",
        "    elif i=='500+':\n",
        "        l.append(6)\n",
        "\n",
        "    else:\n",
        "        l.append(7)"
      ]
    },
    {
      "cell_type": "code",
      "execution_count": null,
      "id": "9361c66e",
      "metadata": {
        "id": "9361c66e",
        "outputId": "592cda2f-40b2-4dd0-8a81-8f72e7bb14e8"
      },
      "outputs": [
        {
          "data": {
            "text/plain": [
              "0    2\n",
              "1    2\n",
              "2    2\n",
              "3    2\n",
              "4    2\n",
              "5    2\n",
              "6    7\n",
              "7    7\n",
              "8    7\n",
              "9    7\n",
              "Name: BreachLifecycleRange, dtype: int64"
            ]
          },
          "execution_count": 27,
          "metadata": {},
          "output_type": "execute_result"
        }
      ],
      "source": [
        "df.BreachLifecycleRange=l\n",
        "df.BreachLifecycleRange[:10]"
      ]
    },
    {
      "cell_type": "code",
      "execution_count": null,
      "id": "7e64c0f3",
      "metadata": {
        "id": "7e64c0f3",
        "outputId": "710bece6-1217-4bca-8331-276f66836018"
      },
      "outputs": [
        {
          "data": {
            "text/html": [
              "<div>\n",
              "<style scoped>\n",
              "    .dataframe tbody tr th:only-of-type {\n",
              "        vertical-align: middle;\n",
              "    }\n",
              "\n",
              "    .dataframe tbody tr th {\n",
              "        vertical-align: top;\n",
              "    }\n",
              "\n",
              "    .dataframe thead th {\n",
              "        text-align: right;\n",
              "    }\n",
              "</style>\n",
              "<table border=\"1\" class=\"dataframe\">\n",
              "  <thead>\n",
              "    <tr style=\"text-align: right;\">\n",
              "      <th></th>\n",
              "      <th>DataBreachCause</th>\n",
              "      <th>CyberattackType</th>\n",
              "      <th>WashingtoniansAffected</th>\n",
              "      <th>IndustryType</th>\n",
              "      <th>BusinessType</th>\n",
              "      <th>InformationType</th>\n",
              "      <th>Year</th>\n",
              "      <th>WashingtoniansAffectedRange</th>\n",
              "      <th>BreachLifecycleRange</th>\n",
              "    </tr>\n",
              "  </thead>\n",
              "  <tbody>\n",
              "    <tr>\n",
              "      <th>0</th>\n",
              "      <td>Cyberattack</td>\n",
              "      <td>Malware</td>\n",
              "      <td>24563</td>\n",
              "      <td>Business</td>\n",
              "      <td>Software</td>\n",
              "      <td>Name</td>\n",
              "      <td>2018</td>\n",
              "      <td>7</td>\n",
              "      <td>2</td>\n",
              "    </tr>\n",
              "    <tr>\n",
              "      <th>1</th>\n",
              "      <td>Cyberattack</td>\n",
              "      <td>Malware</td>\n",
              "      <td>24563</td>\n",
              "      <td>Business</td>\n",
              "      <td>Software</td>\n",
              "      <td>Financial &amp; Banking Information</td>\n",
              "      <td>2018</td>\n",
              "      <td>7</td>\n",
              "      <td>2</td>\n",
              "    </tr>\n",
              "    <tr>\n",
              "      <th>2</th>\n",
              "      <td>Cyberattack</td>\n",
              "      <td>Malware</td>\n",
              "      <td>24563</td>\n",
              "      <td>Business</td>\n",
              "      <td>Software</td>\n",
              "      <td>Other</td>\n",
              "      <td>2018</td>\n",
              "      <td>7</td>\n",
              "      <td>2</td>\n",
              "    </tr>\n",
              "    <tr>\n",
              "      <th>3</th>\n",
              "      <td>Cyberattack</td>\n",
              "      <td>Malware</td>\n",
              "      <td>8390</td>\n",
              "      <td>Business</td>\n",
              "      <td>Retail</td>\n",
              "      <td>Name</td>\n",
              "      <td>2018</td>\n",
              "      <td>2</td>\n",
              "      <td>2</td>\n",
              "    </tr>\n",
              "    <tr>\n",
              "      <th>4</th>\n",
              "      <td>Cyberattack</td>\n",
              "      <td>Malware</td>\n",
              "      <td>8390</td>\n",
              "      <td>Business</td>\n",
              "      <td>Retail</td>\n",
              "      <td>Financial &amp; Banking Information</td>\n",
              "      <td>2018</td>\n",
              "      <td>2</td>\n",
              "      <td>2</td>\n",
              "    </tr>\n",
              "    <tr>\n",
              "      <th>...</th>\n",
              "      <td>...</td>\n",
              "      <td>...</td>\n",
              "      <td>...</td>\n",
              "      <td>...</td>\n",
              "      <td>...</td>\n",
              "      <td>...</td>\n",
              "      <td>...</td>\n",
              "      <td>...</td>\n",
              "      <td>...</td>\n",
              "    </tr>\n",
              "    <tr>\n",
              "      <th>4013</th>\n",
              "      <td>Cyberattack</td>\n",
              "      <td>Ransomware</td>\n",
              "      <td>1331</td>\n",
              "      <td>Education</td>\n",
              "      <td>Other</td>\n",
              "      <td>Full Date of Birth</td>\n",
              "      <td>2024</td>\n",
              "      <td>2</td>\n",
              "      <td>1</td>\n",
              "    </tr>\n",
              "    <tr>\n",
              "      <th>4014</th>\n",
              "      <td>Cyberattack</td>\n",
              "      <td>Other</td>\n",
              "      <td>554</td>\n",
              "      <td>Business</td>\n",
              "      <td>Software</td>\n",
              "      <td>Name</td>\n",
              "      <td>2024</td>\n",
              "      <td>2</td>\n",
              "      <td>1</td>\n",
              "    </tr>\n",
              "    <tr>\n",
              "      <th>4015</th>\n",
              "      <td>Cyberattack</td>\n",
              "      <td>Other</td>\n",
              "      <td>554</td>\n",
              "      <td>Business</td>\n",
              "      <td>Software</td>\n",
              "      <td>Full Date of Birth</td>\n",
              "      <td>2024</td>\n",
              "      <td>2</td>\n",
              "      <td>1</td>\n",
              "    </tr>\n",
              "    <tr>\n",
              "      <th>4016</th>\n",
              "      <td>Cyberattack</td>\n",
              "      <td>Other</td>\n",
              "      <td>554</td>\n",
              "      <td>Business</td>\n",
              "      <td>Software</td>\n",
              "      <td>Health Insurance Policy or ID Number</td>\n",
              "      <td>2024</td>\n",
              "      <td>2</td>\n",
              "      <td>1</td>\n",
              "    </tr>\n",
              "    <tr>\n",
              "      <th>4017</th>\n",
              "      <td>Cyberattack</td>\n",
              "      <td>Other</td>\n",
              "      <td>554</td>\n",
              "      <td>Business</td>\n",
              "      <td>Software</td>\n",
              "      <td>Medical Information</td>\n",
              "      <td>2024</td>\n",
              "      <td>2</td>\n",
              "      <td>1</td>\n",
              "    </tr>\n",
              "  </tbody>\n",
              "</table>\n",
              "<p>4018 rows × 9 columns</p>\n",
              "</div>"
            ],
            "text/plain": [
              "     DataBreachCause CyberattackType  WashingtoniansAffected IndustryType  \\\n",
              "0        Cyberattack         Malware                   24563     Business   \n",
              "1        Cyberattack         Malware                   24563     Business   \n",
              "2        Cyberattack         Malware                   24563     Business   \n",
              "3        Cyberattack         Malware                    8390     Business   \n",
              "4        Cyberattack         Malware                    8390     Business   \n",
              "...              ...             ...                     ...          ...   \n",
              "4013     Cyberattack      Ransomware                    1331    Education   \n",
              "4014     Cyberattack           Other                     554     Business   \n",
              "4015     Cyberattack           Other                     554     Business   \n",
              "4016     Cyberattack           Other                     554     Business   \n",
              "4017     Cyberattack           Other                     554     Business   \n",
              "\n",
              "     BusinessType                       InformationType  Year  \\\n",
              "0        Software                                  Name  2018   \n",
              "1        Software       Financial & Banking Information  2018   \n",
              "2        Software                                 Other  2018   \n",
              "3          Retail                                  Name  2018   \n",
              "4          Retail       Financial & Banking Information  2018   \n",
              "...           ...                                   ...   ...   \n",
              "4013        Other                    Full Date of Birth  2024   \n",
              "4014     Software                                  Name  2024   \n",
              "4015     Software                    Full Date of Birth  2024   \n",
              "4016     Software  Health Insurance Policy or ID Number  2024   \n",
              "4017     Software                   Medical Information  2024   \n",
              "\n",
              "      WashingtoniansAffectedRange  BreachLifecycleRange  \n",
              "0                               7                     2  \n",
              "1                               7                     2  \n",
              "2                               7                     2  \n",
              "3                               2                     2  \n",
              "4                               2                     2  \n",
              "...                           ...                   ...  \n",
              "4013                            2                     1  \n",
              "4014                            2                     1  \n",
              "4015                            2                     1  \n",
              "4016                            2                     1  \n",
              "4017                            2                     1  \n",
              "\n",
              "[4018 rows x 9 columns]"
            ]
          },
          "execution_count": 28,
          "metadata": {},
          "output_type": "execute_result"
        }
      ],
      "source": [
        "df"
      ]
    },
    {
      "cell_type": "code",
      "execution_count": null,
      "id": "e4da99df",
      "metadata": {
        "id": "e4da99df"
      },
      "outputs": [],
      "source": [
        "# label encoding on target column\n",
        "from sklearn import preprocessing\n",
        "lable_encoder= preprocessing.LabelEncoder()\n",
        "df.CyberattackType=lable_encoder.fit_transform(df.CyberattackType)"
      ]
    },
    {
      "cell_type": "code",
      "execution_count": null,
      "id": "15456676",
      "metadata": {
        "id": "15456676"
      },
      "outputs": [],
      "source": [
        "# for learning and converting data to numerical form\n",
        "y=df['CyberattackType']\n",
        "X=df.drop('CyberattackType',axis=1)"
      ]
    },
    {
      "cell_type": "code",
      "execution_count": null,
      "id": "5130bd86",
      "metadata": {
        "id": "5130bd86"
      },
      "outputs": [],
      "source": [
        "# spliting the data into train and test set\n",
        "# with this techniques the author devide dataset for training and testing\n",
        "\n",
        "from sklearn.model_selection import train_test_split\n",
        "\n",
        "X_train,X_test, y_train,y_test=train_test_split(X,y,train_size=0.75,random_state=100)"
      ]
    },
    {
      "cell_type": "code",
      "execution_count": null,
      "id": "cbda7f92",
      "metadata": {
        "id": "cbda7f92",
        "outputId": "5fccd1bb-4f98-4314-a014-2c1f0ae1e40d"
      },
      "outputs": [
        {
          "data": {
            "text/plain": [
              "array([7, 2, 5, 6], dtype=int64)"
            ]
          },
          "execution_count": 59,
          "metadata": {},
          "output_type": "execute_result"
        }
      ],
      "source": [
        "df.WashingtoniansAffectedRange.unique()"
      ]
    },
    {
      "cell_type": "code",
      "execution_count": null,
      "id": "7c56ba20",
      "metadata": {
        "id": "7c56ba20",
        "outputId": "039bd0f2-95a2-4ffb-e4ac-a1be4fabb766"
      },
      "outputs": [
        {
          "data": {
            "text/html": [
              "<div>\n",
              "<style scoped>\n",
              "    .dataframe tbody tr th:only-of-type {\n",
              "        vertical-align: middle;\n",
              "    }\n",
              "\n",
              "    .dataframe tbody tr th {\n",
              "        vertical-align: top;\n",
              "    }\n",
              "\n",
              "    .dataframe thead th {\n",
              "        text-align: right;\n",
              "    }\n",
              "</style>\n",
              "<table border=\"1\" class=\"dataframe\">\n",
              "  <thead>\n",
              "    <tr style=\"text-align: right;\">\n",
              "      <th></th>\n",
              "      <th>DataBreachCause</th>\n",
              "      <th>CyberattackType</th>\n",
              "      <th>WashingtoniansAffected</th>\n",
              "      <th>IndustryType</th>\n",
              "      <th>BusinessType</th>\n",
              "      <th>InformationType</th>\n",
              "      <th>Year</th>\n",
              "      <th>WashingtoniansAffectedRange</th>\n",
              "      <th>BreachLifecycleRange</th>\n",
              "    </tr>\n",
              "  </thead>\n",
              "  <tbody>\n",
              "    <tr>\n",
              "      <th>0</th>\n",
              "      <td>Cyberattack</td>\n",
              "      <td>0</td>\n",
              "      <td>24563</td>\n",
              "      <td>Business</td>\n",
              "      <td>Software</td>\n",
              "      <td>Name</td>\n",
              "      <td>2018</td>\n",
              "      <td>7</td>\n",
              "      <td>2</td>\n",
              "    </tr>\n",
              "    <tr>\n",
              "      <th>1</th>\n",
              "      <td>Cyberattack</td>\n",
              "      <td>0</td>\n",
              "      <td>24563</td>\n",
              "      <td>Business</td>\n",
              "      <td>Software</td>\n",
              "      <td>Financial &amp; Banking Information</td>\n",
              "      <td>2018</td>\n",
              "      <td>7</td>\n",
              "      <td>2</td>\n",
              "    </tr>\n",
              "    <tr>\n",
              "      <th>2</th>\n",
              "      <td>Cyberattack</td>\n",
              "      <td>0</td>\n",
              "      <td>24563</td>\n",
              "      <td>Business</td>\n",
              "      <td>Software</td>\n",
              "      <td>Other</td>\n",
              "      <td>2018</td>\n",
              "      <td>7</td>\n",
              "      <td>2</td>\n",
              "    </tr>\n",
              "    <tr>\n",
              "      <th>3</th>\n",
              "      <td>Cyberattack</td>\n",
              "      <td>0</td>\n",
              "      <td>8390</td>\n",
              "      <td>Business</td>\n",
              "      <td>Retail</td>\n",
              "      <td>Name</td>\n",
              "      <td>2018</td>\n",
              "      <td>2</td>\n",
              "      <td>2</td>\n",
              "    </tr>\n",
              "    <tr>\n",
              "      <th>4</th>\n",
              "      <td>Cyberattack</td>\n",
              "      <td>0</td>\n",
              "      <td>8390</td>\n",
              "      <td>Business</td>\n",
              "      <td>Retail</td>\n",
              "      <td>Financial &amp; Banking Information</td>\n",
              "      <td>2018</td>\n",
              "      <td>2</td>\n",
              "      <td>2</td>\n",
              "    </tr>\n",
              "    <tr>\n",
              "      <th>...</th>\n",
              "      <td>...</td>\n",
              "      <td>...</td>\n",
              "      <td>...</td>\n",
              "      <td>...</td>\n",
              "      <td>...</td>\n",
              "      <td>...</td>\n",
              "      <td>...</td>\n",
              "      <td>...</td>\n",
              "      <td>...</td>\n",
              "    </tr>\n",
              "    <tr>\n",
              "      <th>4013</th>\n",
              "      <td>Cyberattack</td>\n",
              "      <td>3</td>\n",
              "      <td>1331</td>\n",
              "      <td>Education</td>\n",
              "      <td>Other</td>\n",
              "      <td>Full Date of Birth</td>\n",
              "      <td>2024</td>\n",
              "      <td>2</td>\n",
              "      <td>1</td>\n",
              "    </tr>\n",
              "    <tr>\n",
              "      <th>4014</th>\n",
              "      <td>Cyberattack</td>\n",
              "      <td>1</td>\n",
              "      <td>554</td>\n",
              "      <td>Business</td>\n",
              "      <td>Software</td>\n",
              "      <td>Name</td>\n",
              "      <td>2024</td>\n",
              "      <td>2</td>\n",
              "      <td>1</td>\n",
              "    </tr>\n",
              "    <tr>\n",
              "      <th>4015</th>\n",
              "      <td>Cyberattack</td>\n",
              "      <td>1</td>\n",
              "      <td>554</td>\n",
              "      <td>Business</td>\n",
              "      <td>Software</td>\n",
              "      <td>Full Date of Birth</td>\n",
              "      <td>2024</td>\n",
              "      <td>2</td>\n",
              "      <td>1</td>\n",
              "    </tr>\n",
              "    <tr>\n",
              "      <th>4016</th>\n",
              "      <td>Cyberattack</td>\n",
              "      <td>1</td>\n",
              "      <td>554</td>\n",
              "      <td>Business</td>\n",
              "      <td>Software</td>\n",
              "      <td>Health Insurance Policy or ID Number</td>\n",
              "      <td>2024</td>\n",
              "      <td>2</td>\n",
              "      <td>1</td>\n",
              "    </tr>\n",
              "    <tr>\n",
              "      <th>4017</th>\n",
              "      <td>Cyberattack</td>\n",
              "      <td>1</td>\n",
              "      <td>554</td>\n",
              "      <td>Business</td>\n",
              "      <td>Software</td>\n",
              "      <td>Medical Information</td>\n",
              "      <td>2024</td>\n",
              "      <td>2</td>\n",
              "      <td>1</td>\n",
              "    </tr>\n",
              "  </tbody>\n",
              "</table>\n",
              "<p>4018 rows × 9 columns</p>\n",
              "</div>"
            ],
            "text/plain": [
              "     DataBreachCause  CyberattackType  WashingtoniansAffected IndustryType  \\\n",
              "0        Cyberattack                0                   24563     Business   \n",
              "1        Cyberattack                0                   24563     Business   \n",
              "2        Cyberattack                0                   24563     Business   \n",
              "3        Cyberattack                0                    8390     Business   \n",
              "4        Cyberattack                0                    8390     Business   \n",
              "...              ...              ...                     ...          ...   \n",
              "4013     Cyberattack                3                    1331    Education   \n",
              "4014     Cyberattack                1                     554     Business   \n",
              "4015     Cyberattack                1                     554     Business   \n",
              "4016     Cyberattack                1                     554     Business   \n",
              "4017     Cyberattack                1                     554     Business   \n",
              "\n",
              "     BusinessType                       InformationType  Year  \\\n",
              "0        Software                                  Name  2018   \n",
              "1        Software       Financial & Banking Information  2018   \n",
              "2        Software                                 Other  2018   \n",
              "3          Retail                                  Name  2018   \n",
              "4          Retail       Financial & Banking Information  2018   \n",
              "...           ...                                   ...   ...   \n",
              "4013        Other                    Full Date of Birth  2024   \n",
              "4014     Software                                  Name  2024   \n",
              "4015     Software                    Full Date of Birth  2024   \n",
              "4016     Software  Health Insurance Policy or ID Number  2024   \n",
              "4017     Software                   Medical Information  2024   \n",
              "\n",
              "      WashingtoniansAffectedRange  BreachLifecycleRange  \n",
              "0                               7                     2  \n",
              "1                               7                     2  \n",
              "2                               7                     2  \n",
              "3                               2                     2  \n",
              "4                               2                     2  \n",
              "...                           ...                   ...  \n",
              "4013                            2                     1  \n",
              "4014                            2                     1  \n",
              "4015                            2                     1  \n",
              "4016                            2                     1  \n",
              "4017                            2                     1  \n",
              "\n",
              "[4018 rows x 9 columns]"
            ]
          },
          "execution_count": 60,
          "metadata": {},
          "output_type": "execute_result"
        }
      ],
      "source": [
        "df"
      ]
    },
    {
      "cell_type": "code",
      "execution_count": null,
      "id": "ec3c1990",
      "metadata": {
        "id": "ec3c1990",
        "outputId": "b3c30388-5455-4c3e-d3d1-e3937f9b7d63"
      },
      "outputs": [
        {
          "data": {
            "text/plain": [
              "DataBreachCause                object\n",
              "CyberattackType                 int32\n",
              "WashingtoniansAffected          int32\n",
              "IndustryType                   object\n",
              "BusinessType                   object\n",
              "InformationType                object\n",
              "Year                            int64\n",
              "WashingtoniansAffectedRange     int64\n",
              "BreachLifecycleRange            int64\n",
              "dtype: object"
            ]
          },
          "execution_count": 61,
          "metadata": {},
          "output_type": "execute_result"
        }
      ],
      "source": [
        "df.dtypes"
      ]
    },
    {
      "cell_type": "code",
      "execution_count": null,
      "id": "6ef3bf13",
      "metadata": {
        "id": "6ef3bf13",
        "outputId": "814c1b90-9e17-43b5-de73-5f223078ec86"
      },
      "outputs": [
        {
          "data": {
            "text/html": [
              "<div>\n",
              "<style scoped>\n",
              "    .dataframe tbody tr th:only-of-type {\n",
              "        vertical-align: middle;\n",
              "    }\n",
              "\n",
              "    .dataframe tbody tr th {\n",
              "        vertical-align: top;\n",
              "    }\n",
              "\n",
              "    .dataframe thead th {\n",
              "        text-align: right;\n",
              "    }\n",
              "</style>\n",
              "<table border=\"1\" class=\"dataframe\">\n",
              "  <thead>\n",
              "    <tr style=\"text-align: right;\">\n",
              "      <th></th>\n",
              "      <th>WashingtoniansAffected</th>\n",
              "      <th>Year</th>\n",
              "      <th>WashingtoniansAffectedRange</th>\n",
              "      <th>BreachLifecycleRange</th>\n",
              "    </tr>\n",
              "  </thead>\n",
              "  <tbody>\n",
              "    <tr>\n",
              "      <th>584</th>\n",
              "      <td>1012</td>\n",
              "      <td>2021</td>\n",
              "      <td>2</td>\n",
              "      <td>1</td>\n",
              "    </tr>\n",
              "    <tr>\n",
              "      <th>417</th>\n",
              "      <td>815</td>\n",
              "      <td>2017</td>\n",
              "      <td>2</td>\n",
              "      <td>2</td>\n",
              "    </tr>\n",
              "    <tr>\n",
              "      <th>2574</th>\n",
              "      <td>772</td>\n",
              "      <td>2022</td>\n",
              "      <td>2</td>\n",
              "      <td>1</td>\n",
              "    </tr>\n",
              "    <tr>\n",
              "      <th>2695</th>\n",
              "      <td>13396</td>\n",
              "      <td>2022</td>\n",
              "      <td>7</td>\n",
              "      <td>2</td>\n",
              "    </tr>\n",
              "    <tr>\n",
              "      <th>1047</th>\n",
              "      <td>3585</td>\n",
              "      <td>2021</td>\n",
              "      <td>2</td>\n",
              "      <td>1</td>\n",
              "    </tr>\n",
              "  </tbody>\n",
              "</table>\n",
              "</div>"
            ],
            "text/plain": [
              "      WashingtoniansAffected  Year  WashingtoniansAffectedRange  \\\n",
              "584                     1012  2021                            2   \n",
              "417                      815  2017                            2   \n",
              "2574                     772  2022                            2   \n",
              "2695                   13396  2022                            7   \n",
              "1047                    3585  2021                            2   \n",
              "\n",
              "      BreachLifecycleRange  \n",
              "584                      1  \n",
              "417                      2  \n",
              "2574                     1  \n",
              "2695                     2  \n",
              "1047                     1  "
            ]
          },
          "execution_count": 62,
          "metadata": {},
          "output_type": "execute_result"
        }
      ],
      "source": [
        "X_train_num=X_train.select_dtypes(include=[\"int64\",\"int32\"]) # seperating all numerical dtype columns\n",
        "X_train_num.head()"
      ]
    },
    {
      "cell_type": "code",
      "execution_count": null,
      "id": "ad61514f",
      "metadata": {
        "id": "ad61514f",
        "outputId": "a5cb8ad0-8a33-433d-a41d-1f50d33c6378"
      },
      "outputs": [
        {
          "data": {
            "text/html": [
              "<div>\n",
              "<style scoped>\n",
              "    .dataframe tbody tr th:only-of-type {\n",
              "        vertical-align: middle;\n",
              "    }\n",
              "\n",
              "    .dataframe tbody tr th {\n",
              "        vertical-align: top;\n",
              "    }\n",
              "\n",
              "    .dataframe thead th {\n",
              "        text-align: right;\n",
              "    }\n",
              "</style>\n",
              "<table border=\"1\" class=\"dataframe\">\n",
              "  <thead>\n",
              "    <tr style=\"text-align: right;\">\n",
              "      <th></th>\n",
              "      <th>DataBreachCause</th>\n",
              "      <th>IndustryType</th>\n",
              "      <th>BusinessType</th>\n",
              "      <th>InformationType</th>\n",
              "    </tr>\n",
              "  </thead>\n",
              "  <tbody>\n",
              "    <tr>\n",
              "      <th>584</th>\n",
              "      <td>Cyberattack</td>\n",
              "      <td>Business</td>\n",
              "      <td>Retail</td>\n",
              "      <td>Name</td>\n",
              "    </tr>\n",
              "    <tr>\n",
              "      <th>417</th>\n",
              "      <td>Cyberattack</td>\n",
              "      <td>Finance</td>\n",
              "      <td>Other</td>\n",
              "      <td>Full Date of Birth</td>\n",
              "    </tr>\n",
              "    <tr>\n",
              "      <th>2574</th>\n",
              "      <td>Cyberattack</td>\n",
              "      <td>Health</td>\n",
              "      <td>Other</td>\n",
              "      <td>Medical Information</td>\n",
              "    </tr>\n",
              "    <tr>\n",
              "      <th>2695</th>\n",
              "      <td>Unauthorized Access</td>\n",
              "      <td>Business</td>\n",
              "      <td>Software</td>\n",
              "      <td>Financial &amp; Banking Information</td>\n",
              "    </tr>\n",
              "    <tr>\n",
              "      <th>1047</th>\n",
              "      <td>Cyberattack</td>\n",
              "      <td>Education</td>\n",
              "      <td>Other</td>\n",
              "      <td>Name</td>\n",
              "    </tr>\n",
              "  </tbody>\n",
              "</table>\n",
              "</div>"
            ],
            "text/plain": [
              "          DataBreachCause IndustryType BusinessType  \\\n",
              "584           Cyberattack     Business       Retail   \n",
              "417           Cyberattack      Finance        Other   \n",
              "2574          Cyberattack       Health        Other   \n",
              "2695  Unauthorized Access     Business     Software   \n",
              "1047          Cyberattack    Education        Other   \n",
              "\n",
              "                      InformationType  \n",
              "584                              Name  \n",
              "417                Full Date of Birth  \n",
              "2574              Medical Information  \n",
              "2695  Financial & Banking Information  \n",
              "1047                             Name  "
            ]
          },
          "execution_count": 63,
          "metadata": {},
          "output_type": "execute_result"
        }
      ],
      "source": [
        "X_train_cat=X_train.select_dtypes(include=[\"object\"]) # seperating all object dtype columns\n",
        "X_train_cat.head()"
      ]
    },
    {
      "cell_type": "code",
      "execution_count": null,
      "id": "3e83549a",
      "metadata": {
        "id": "3e83549a",
        "outputId": "7d7a2f63-13f2-4b98-9056-9cbe7faa4766"
      },
      "outputs": [
        {
          "data": {
            "text/html": [
              "<div>\n",
              "<style scoped>\n",
              "    .dataframe tbody tr th:only-of-type {\n",
              "        vertical-align: middle;\n",
              "    }\n",
              "\n",
              "    .dataframe tbody tr th {\n",
              "        vertical-align: top;\n",
              "    }\n",
              "\n",
              "    .dataframe thead th {\n",
              "        text-align: right;\n",
              "    }\n",
              "</style>\n",
              "<table border=\"1\" class=\"dataframe\">\n",
              "  <thead>\n",
              "    <tr style=\"text-align: right;\">\n",
              "      <th></th>\n",
              "      <th>WashingtoniansAffected</th>\n",
              "      <th>Year</th>\n",
              "      <th>WashingtoniansAffectedRange</th>\n",
              "      <th>BreachLifecycleRange</th>\n",
              "    </tr>\n",
              "  </thead>\n",
              "  <tbody>\n",
              "    <tr>\n",
              "      <th>584</th>\n",
              "      <td>-0.176774</td>\n",
              "      <td>-0.035981</td>\n",
              "      <td>-0.501789</td>\n",
              "      <td>-0.867213</td>\n",
              "    </tr>\n",
              "    <tr>\n",
              "      <th>417</th>\n",
              "      <td>-0.178142</td>\n",
              "      <td>-1.998183</td>\n",
              "      <td>-0.501789</td>\n",
              "      <td>-0.489679</td>\n",
              "    </tr>\n",
              "    <tr>\n",
              "      <th>2574</th>\n",
              "      <td>-0.178440</td>\n",
              "      <td>0.454569</td>\n",
              "      <td>-0.501789</td>\n",
              "      <td>-0.867213</td>\n",
              "    </tr>\n",
              "    <tr>\n",
              "      <th>2695</th>\n",
              "      <td>-0.090812</td>\n",
              "      <td>0.454569</td>\n",
              "      <td>2.252108</td>\n",
              "      <td>-0.489679</td>\n",
              "    </tr>\n",
              "    <tr>\n",
              "      <th>1047</th>\n",
              "      <td>-0.158914</td>\n",
              "      <td>-0.035981</td>\n",
              "      <td>-0.501789</td>\n",
              "      <td>-0.867213</td>\n",
              "    </tr>\n",
              "  </tbody>\n",
              "</table>\n",
              "</div>"
            ],
            "text/plain": [
              "      WashingtoniansAffected      Year  WashingtoniansAffectedRange  \\\n",
              "584                -0.176774 -0.035981                    -0.501789   \n",
              "417                -0.178142 -1.998183                    -0.501789   \n",
              "2574               -0.178440  0.454569                    -0.501789   \n",
              "2695               -0.090812  0.454569                     2.252108   \n",
              "1047               -0.158914 -0.035981                    -0.501789   \n",
              "\n",
              "      BreachLifecycleRange  \n",
              "584              -0.867213  \n",
              "417              -0.489679  \n",
              "2574             -0.867213  \n",
              "2695             -0.489679  \n",
              "1047             -0.867213  "
            ]
          },
          "execution_count": 64,
          "metadata": {},
          "output_type": "execute_result"
        }
      ],
      "source": [
        "# scaling the numerical features\n",
        "from sklearn.preprocessing import StandardScaler\n",
        "scaler = StandardScaler() # object creation\n",
        "\n",
        "# column names are (annoyingly) lost after Scaling\n",
        "# (i.e. the dataframe is converted to a numpy ndarray)\n",
        "\n",
        "X_train_num_rescaled = pd.DataFrame(scaler.fit_transform(X_train_num), # to learn data from train set\n",
        "                                    columns = X_train_num.columns,\n",
        "                                    index = X_train_num.index)\n",
        "\n",
        "X_train_num_rescaled.head()"
      ]
    },
    {
      "cell_type": "code",
      "execution_count": null,
      "id": "6f2e2969",
      "metadata": {
        "id": "6f2e2969",
        "outputId": "f8ce65f8-eb8c-4c5c-a8f0-1bfca2aa971d"
      },
      "outputs": [
        {
          "data": {
            "text/html": [
              "<div>\n",
              "<style scoped>\n",
              "    .dataframe tbody tr th:only-of-type {\n",
              "        vertical-align: middle;\n",
              "    }\n",
              "\n",
              "    .dataframe tbody tr th {\n",
              "        vertical-align: top;\n",
              "    }\n",
              "\n",
              "    .dataframe thead th {\n",
              "        text-align: right;\n",
              "    }\n",
              "</style>\n",
              "<table border=\"1\" class=\"dataframe\">\n",
              "  <thead>\n",
              "    <tr style=\"text-align: right;\">\n",
              "      <th></th>\n",
              "      <th>DataBreachCause</th>\n",
              "      <th>IndustryType</th>\n",
              "      <th>BusinessType</th>\n",
              "      <th>InformationType</th>\n",
              "    </tr>\n",
              "  </thead>\n",
              "  <tbody>\n",
              "    <tr>\n",
              "      <th>584</th>\n",
              "      <td>Cyberattack</td>\n",
              "      <td>Business</td>\n",
              "      <td>Retail</td>\n",
              "      <td>Name</td>\n",
              "    </tr>\n",
              "    <tr>\n",
              "      <th>417</th>\n",
              "      <td>Cyberattack</td>\n",
              "      <td>Finance</td>\n",
              "      <td>Other</td>\n",
              "      <td>Full Date of Birth</td>\n",
              "    </tr>\n",
              "    <tr>\n",
              "      <th>2574</th>\n",
              "      <td>Cyberattack</td>\n",
              "      <td>Health</td>\n",
              "      <td>Other</td>\n",
              "      <td>Medical Information</td>\n",
              "    </tr>\n",
              "    <tr>\n",
              "      <th>2695</th>\n",
              "      <td>Unauthorized Access</td>\n",
              "      <td>Business</td>\n",
              "      <td>Software</td>\n",
              "      <td>Financial &amp; Banking Information</td>\n",
              "    </tr>\n",
              "    <tr>\n",
              "      <th>1047</th>\n",
              "      <td>Cyberattack</td>\n",
              "      <td>Education</td>\n",
              "      <td>Other</td>\n",
              "      <td>Name</td>\n",
              "    </tr>\n",
              "    <tr>\n",
              "      <th>...</th>\n",
              "      <td>...</td>\n",
              "      <td>...</td>\n",
              "      <td>...</td>\n",
              "      <td>...</td>\n",
              "    </tr>\n",
              "    <tr>\n",
              "      <th>3927</th>\n",
              "      <td>Cyberattack</td>\n",
              "      <td>Health</td>\n",
              "      <td>Other</td>\n",
              "      <td>Medical Information</td>\n",
              "    </tr>\n",
              "    <tr>\n",
              "      <th>3943</th>\n",
              "      <td>Cyberattack</td>\n",
              "      <td>Finance</td>\n",
              "      <td>Other</td>\n",
              "      <td>Social Security Number</td>\n",
              "    </tr>\n",
              "    <tr>\n",
              "      <th>1859</th>\n",
              "      <td>Cyberattack</td>\n",
              "      <td>Business</td>\n",
              "      <td>Retail</td>\n",
              "      <td>Name</td>\n",
              "    </tr>\n",
              "    <tr>\n",
              "      <th>2840</th>\n",
              "      <td>Cyberattack</td>\n",
              "      <td>Business</td>\n",
              "      <td>Legal</td>\n",
              "      <td>Financial &amp; Banking Information</td>\n",
              "    </tr>\n",
              "    <tr>\n",
              "      <th>1544</th>\n",
              "      <td>Cyberattack</td>\n",
              "      <td>Business</td>\n",
              "      <td>Retail</td>\n",
              "      <td>Name</td>\n",
              "    </tr>\n",
              "  </tbody>\n",
              "</table>\n",
              "<p>3013 rows × 4 columns</p>\n",
              "</div>"
            ],
            "text/plain": [
              "          DataBreachCause IndustryType BusinessType  \\\n",
              "584           Cyberattack     Business       Retail   \n",
              "417           Cyberattack      Finance        Other   \n",
              "2574          Cyberattack       Health        Other   \n",
              "2695  Unauthorized Access     Business     Software   \n",
              "1047          Cyberattack    Education        Other   \n",
              "...                   ...          ...          ...   \n",
              "3927          Cyberattack       Health        Other   \n",
              "3943          Cyberattack      Finance        Other   \n",
              "1859          Cyberattack     Business       Retail   \n",
              "2840          Cyberattack     Business        Legal   \n",
              "1544          Cyberattack     Business       Retail   \n",
              "\n",
              "                      InformationType  \n",
              "584                              Name  \n",
              "417                Full Date of Birth  \n",
              "2574              Medical Information  \n",
              "2695  Financial & Banking Information  \n",
              "1047                             Name  \n",
              "...                               ...  \n",
              "3927              Medical Information  \n",
              "3943           Social Security Number  \n",
              "1859                             Name  \n",
              "2840  Financial & Banking Information  \n",
              "1544                             Name  \n",
              "\n",
              "[3013 rows x 4 columns]"
            ]
          },
          "execution_count": 65,
          "metadata": {},
          "output_type": "execute_result"
        }
      ],
      "source": [
        "X_train_cat"
      ]
    },
    {
      "cell_type": "code",
      "execution_count": null,
      "id": "dfc75848",
      "metadata": {
        "id": "dfc75848",
        "outputId": "d49bd588-1483-4df2-9d6c-fffdc0618344"
      },
      "outputs": [
        {
          "data": {
            "text/plain": [
              "array(['Business', 'Finance', 'Health', 'Education', 'Government',\n",
              "       ' No Charity'], dtype=object)"
            ]
          },
          "execution_count": 66,
          "metadata": {},
          "output_type": "execute_result"
        }
      ],
      "source": [
        "X_train_cat.IndustryType.unique()"
      ]
    },
    {
      "cell_type": "code",
      "execution_count": null,
      "id": "4dd86a3f",
      "metadata": {
        "id": "4dd86a3f",
        "outputId": "bbb29a33-cca3-44db-c6c8-aade1d2c84aa"
      },
      "outputs": [
        {
          "data": {
            "text/html": [
              "<div>\n",
              "<style scoped>\n",
              "    .dataframe tbody tr th:only-of-type {\n",
              "        vertical-align: middle;\n",
              "    }\n",
              "\n",
              "    .dataframe tbody tr th {\n",
              "        vertical-align: top;\n",
              "    }\n",
              "\n",
              "    .dataframe thead th {\n",
              "        text-align: right;\n",
              "    }\n",
              "</style>\n",
              "<table border=\"1\" class=\"dataframe\">\n",
              "  <thead>\n",
              "    <tr style=\"text-align: right;\">\n",
              "      <th></th>\n",
              "      <th>DataBreachCause_infrequent_sklearn</th>\n",
              "      <th>IndustryType_infrequent_sklearn</th>\n",
              "      <th>BusinessType_infrequent_sklearn</th>\n",
              "    </tr>\n",
              "  </thead>\n",
              "  <tbody>\n",
              "    <tr>\n",
              "      <th>584</th>\n",
              "      <td>0.0</td>\n",
              "      <td>0.0</td>\n",
              "      <td>1.0</td>\n",
              "    </tr>\n",
              "    <tr>\n",
              "      <th>417</th>\n",
              "      <td>0.0</td>\n",
              "      <td>1.0</td>\n",
              "      <td>0.0</td>\n",
              "    </tr>\n",
              "    <tr>\n",
              "      <th>2574</th>\n",
              "      <td>0.0</td>\n",
              "      <td>1.0</td>\n",
              "      <td>0.0</td>\n",
              "    </tr>\n",
              "    <tr>\n",
              "      <th>2695</th>\n",
              "      <td>1.0</td>\n",
              "      <td>0.0</td>\n",
              "      <td>1.0</td>\n",
              "    </tr>\n",
              "    <tr>\n",
              "      <th>1047</th>\n",
              "      <td>0.0</td>\n",
              "      <td>1.0</td>\n",
              "      <td>0.0</td>\n",
              "    </tr>\n",
              "  </tbody>\n",
              "</table>\n",
              "</div>"
            ],
            "text/plain": [
              "      DataBreachCause_infrequent_sklearn  IndustryType_infrequent_sklearn  \\\n",
              "584                                  0.0                              0.0   \n",
              "417                                  0.0                              1.0   \n",
              "2574                                 0.0                              1.0   \n",
              "2695                                 1.0                              0.0   \n",
              "1047                                 0.0                              1.0   \n",
              "\n",
              "      BusinessType_infrequent_sklearn  \n",
              "584                               1.0  \n",
              "417                               0.0  \n",
              "2574                              0.0  \n",
              "2695                              1.0  \n",
              "1047                              0.0  "
            ]
          },
          "execution_count": 67,
          "metadata": {},
          "output_type": "execute_result"
        }
      ],
      "source": [
        "from sklearn.preprocessing import OneHotEncoder # to ensure that higher numbers are more important\n",
        "\n",
        "encoder=OneHotEncoder(drop=\"first\",min_frequency=1000,sparse=False)\n",
        "\n",
        "X_train_cat_ohe=pd.DataFrame(encoder.fit_transform(X_train_cat),\n",
        "                            columns=encoder.get_feature_names_out(X_train_cat.columns), # extract the feature name\n",
        "                            index=X_train_cat.index)\n",
        "\n",
        "X_train_cat_ohe.head()"
      ]
    },
    {
      "cell_type": "code",
      "execution_count": null,
      "id": "c695e03c",
      "metadata": {
        "id": "c695e03c",
        "outputId": "415d7600-002f-416a-b54a-2dc6558e51f3"
      },
      "outputs": [
        {
          "data": {
            "text/plain": [
              "3013"
            ]
          },
          "execution_count": 68,
          "metadata": {},
          "output_type": "execute_result"
        }
      ],
      "source": [
        "X_train_transformed = pd.concat([X_train_num_rescaled, X_train_cat_ohe], axis=1)\n",
        "\n",
        "len(X_train_transformed)"
      ]
    },
    {
      "cell_type": "code",
      "execution_count": null,
      "id": "4af025c2",
      "metadata": {
        "id": "4af025c2",
        "outputId": "e003ce91-f285-4203-e5cd-deca8a226656"
      },
      "outputs": [
        {
          "data": {
            "text/html": [
              "<div>\n",
              "<style scoped>\n",
              "    .dataframe tbody tr th:only-of-type {\n",
              "        vertical-align: middle;\n",
              "    }\n",
              "\n",
              "    .dataframe tbody tr th {\n",
              "        vertical-align: top;\n",
              "    }\n",
              "\n",
              "    .dataframe thead th {\n",
              "        text-align: right;\n",
              "    }\n",
              "</style>\n",
              "<table border=\"1\" class=\"dataframe\">\n",
              "  <thead>\n",
              "    <tr style=\"text-align: right;\">\n",
              "      <th></th>\n",
              "      <th>DataBreachCause</th>\n",
              "      <th>IndustryType</th>\n",
              "      <th>BusinessType</th>\n",
              "      <th>InformationType</th>\n",
              "    </tr>\n",
              "  </thead>\n",
              "  <tbody>\n",
              "    <tr>\n",
              "      <th>2497</th>\n",
              "      <td>Cyberattack</td>\n",
              "      <td>Business</td>\n",
              "      <td>Software</td>\n",
              "      <td>Username and PasswordorSecurity Question Answers</td>\n",
              "    </tr>\n",
              "    <tr>\n",
              "      <th>1225</th>\n",
              "      <td>Cyberattack</td>\n",
              "      <td>Business</td>\n",
              "      <td>Consumable</td>\n",
              "      <td>Financial &amp; Banking Information</td>\n",
              "    </tr>\n",
              "    <tr>\n",
              "      <th>2242</th>\n",
              "      <td>Unauthorized Access</td>\n",
              "      <td>Business</td>\n",
              "      <td>Legal</td>\n",
              "      <td>Full Date of Birth</td>\n",
              "    </tr>\n",
              "    <tr>\n",
              "      <th>2201</th>\n",
              "      <td>Cyberattack</td>\n",
              "      <td>Health</td>\n",
              "      <td>Other</td>\n",
              "      <td>Medical Information</td>\n",
              "    </tr>\n",
              "    <tr>\n",
              "      <th>553</th>\n",
              "      <td>Unauthorized Access</td>\n",
              "      <td>Health</td>\n",
              "      <td>Other</td>\n",
              "      <td>Social Security Number</td>\n",
              "    </tr>\n",
              "  </tbody>\n",
              "</table>\n",
              "</div>"
            ],
            "text/plain": [
              "          DataBreachCause IndustryType BusinessType  \\\n",
              "2497          Cyberattack     Business     Software   \n",
              "1225          Cyberattack     Business   Consumable   \n",
              "2242  Unauthorized Access     Business        Legal   \n",
              "2201          Cyberattack       Health        Other   \n",
              "553   Unauthorized Access       Health        Other   \n",
              "\n",
              "                                       InformationType  \n",
              "2497  Username and PasswordorSecurity Question Answers  \n",
              "1225                   Financial & Banking Information  \n",
              "2242                                Full Date of Birth  \n",
              "2201                               Medical Information  \n",
              "553                             Social Security Number  "
            ]
          },
          "execution_count": 69,
          "metadata": {},
          "output_type": "execute_result"
        }
      ],
      "source": [
        "# to seperate the categorical coluumns\n",
        "X_test_cat = X_test.select_dtypes(include=['object'])\n",
        "\n",
        "X_test_cat.head()"
      ]
    },
    {
      "cell_type": "code",
      "execution_count": null,
      "id": "b48d239b",
      "metadata": {
        "id": "b48d239b",
        "outputId": "166f4784-d006-4a2f-fc8b-214a0f093c7e"
      },
      "outputs": [
        {
          "data": {
            "text/html": [
              "<div>\n",
              "<style scoped>\n",
              "    .dataframe tbody tr th:only-of-type {\n",
              "        vertical-align: middle;\n",
              "    }\n",
              "\n",
              "    .dataframe tbody tr th {\n",
              "        vertical-align: top;\n",
              "    }\n",
              "\n",
              "    .dataframe thead th {\n",
              "        text-align: right;\n",
              "    }\n",
              "</style>\n",
              "<table border=\"1\" class=\"dataframe\">\n",
              "  <thead>\n",
              "    <tr style=\"text-align: right;\">\n",
              "      <th></th>\n",
              "      <th>WashingtoniansAffected</th>\n",
              "      <th>Year</th>\n",
              "      <th>WashingtoniansAffectedRange</th>\n",
              "      <th>BreachLifecycleRange</th>\n",
              "    </tr>\n",
              "  </thead>\n",
              "  <tbody>\n",
              "    <tr>\n",
              "      <th>2497</th>\n",
              "      <td>4774</td>\n",
              "      <td>2022</td>\n",
              "      <td>2</td>\n",
              "      <td>7</td>\n",
              "    </tr>\n",
              "    <tr>\n",
              "      <th>1225</th>\n",
              "      <td>9721</td>\n",
              "      <td>2021</td>\n",
              "      <td>2</td>\n",
              "      <td>7</td>\n",
              "    </tr>\n",
              "    <tr>\n",
              "      <th>2242</th>\n",
              "      <td>581</td>\n",
              "      <td>2021</td>\n",
              "      <td>2</td>\n",
              "      <td>1</td>\n",
              "    </tr>\n",
              "    <tr>\n",
              "      <th>2201</th>\n",
              "      <td>4305</td>\n",
              "      <td>2021</td>\n",
              "      <td>2</td>\n",
              "      <td>7</td>\n",
              "    </tr>\n",
              "    <tr>\n",
              "      <th>553</th>\n",
              "      <td>2876</td>\n",
              "      <td>2018</td>\n",
              "      <td>2</td>\n",
              "      <td>1</td>\n",
              "    </tr>\n",
              "  </tbody>\n",
              "</table>\n",
              "</div>"
            ],
            "text/plain": [
              "      WashingtoniansAffected  Year  WashingtoniansAffectedRange  \\\n",
              "2497                    4774  2022                            2   \n",
              "1225                    9721  2021                            2   \n",
              "2242                     581  2021                            2   \n",
              "2201                    4305  2021                            2   \n",
              "553                     2876  2018                            2   \n",
              "\n",
              "      BreachLifecycleRange  \n",
              "2497                     7  \n",
              "1225                     7  \n",
              "2242                     1  \n",
              "2201                     7  \n",
              "553                      1  "
            ]
          },
          "execution_count": 70,
          "metadata": {},
          "output_type": "execute_result"
        }
      ],
      "source": [
        "# to seperate the numerical coluumns\n",
        "X_test_num = X_test.select_dtypes(include=['int64','float64', 'int32'])\n",
        "\n",
        "X_test_num.head()"
      ]
    },
    {
      "cell_type": "code",
      "execution_count": null,
      "id": "ebee5bc4",
      "metadata": {
        "id": "ebee5bc4",
        "outputId": "5f238446-e695-42a1-9398-6a28edf03737"
      },
      "outputs": [
        {
          "data": {
            "text/html": [
              "<div>\n",
              "<style scoped>\n",
              "    .dataframe tbody tr th:only-of-type {\n",
              "        vertical-align: middle;\n",
              "    }\n",
              "\n",
              "    .dataframe tbody tr th {\n",
              "        vertical-align: top;\n",
              "    }\n",
              "\n",
              "    .dataframe thead th {\n",
              "        text-align: right;\n",
              "    }\n",
              "</style>\n",
              "<table border=\"1\" class=\"dataframe\">\n",
              "  <thead>\n",
              "    <tr style=\"text-align: right;\">\n",
              "      <th></th>\n",
              "      <th>WashingtoniansAffected</th>\n",
              "      <th>Year</th>\n",
              "      <th>WashingtoniansAffectedRange</th>\n",
              "      <th>BreachLifecycleRange</th>\n",
              "    </tr>\n",
              "  </thead>\n",
              "  <tbody>\n",
              "    <tr>\n",
              "      <th>2497</th>\n",
              "      <td>-0.150661</td>\n",
              "      <td>0.454569</td>\n",
              "      <td>-0.501789</td>\n",
              "      <td>1.397990</td>\n",
              "    </tr>\n",
              "    <tr>\n",
              "      <th>1225</th>\n",
              "      <td>-0.116322</td>\n",
              "      <td>-0.035981</td>\n",
              "      <td>-0.501789</td>\n",
              "      <td>1.397990</td>\n",
              "    </tr>\n",
              "    <tr>\n",
              "      <th>2242</th>\n",
              "      <td>-0.179766</td>\n",
              "      <td>-0.035981</td>\n",
              "      <td>-0.501789</td>\n",
              "      <td>-0.867213</td>\n",
              "    </tr>\n",
              "    <tr>\n",
              "      <th>2201</th>\n",
              "      <td>-0.153916</td>\n",
              "      <td>-0.035981</td>\n",
              "      <td>-0.501789</td>\n",
              "      <td>1.397990</td>\n",
              "    </tr>\n",
              "    <tr>\n",
              "      <th>553</th>\n",
              "      <td>-0.163836</td>\n",
              "      <td>-1.507633</td>\n",
              "      <td>-0.501789</td>\n",
              "      <td>-0.867213</td>\n",
              "    </tr>\n",
              "  </tbody>\n",
              "</table>\n",
              "</div>"
            ],
            "text/plain": [
              "      WashingtoniansAffected      Year  WashingtoniansAffectedRange  \\\n",
              "2497               -0.150661  0.454569                    -0.501789   \n",
              "1225               -0.116322 -0.035981                    -0.501789   \n",
              "2242               -0.179766 -0.035981                    -0.501789   \n",
              "2201               -0.153916 -0.035981                    -0.501789   \n",
              "553                -0.163836 -1.507633                    -0.501789   \n",
              "\n",
              "      BreachLifecycleRange  \n",
              "2497              1.397990  \n",
              "1225              1.397990  \n",
              "2242             -0.867213  \n",
              "2201              1.397990  \n",
              "553              -0.867213  "
            ]
          },
          "execution_count": 71,
          "metadata": {},
          "output_type": "execute_result"
        }
      ],
      "source": [
        "# Rescale the numerical features in the test dataset using the previously fit scaler\n",
        "X_test_num_rescaled = pd.DataFrame(scaler.transform(X_test_num),\n",
        "                                   columns = X_test_num.columns,\n",
        "                                   index = X_test_num.index)\n",
        "\n",
        "X_test_num_rescaled.head()"
      ]
    },
    {
      "cell_type": "code",
      "execution_count": null,
      "id": "e238b737",
      "metadata": {
        "id": "e238b737",
        "outputId": "5f16447e-3e92-4855-ab3a-60deaae1a3e8"
      },
      "outputs": [
        {
          "data": {
            "text/html": [
              "<div>\n",
              "<style scoped>\n",
              "    .dataframe tbody tr th:only-of-type {\n",
              "        vertical-align: middle;\n",
              "    }\n",
              "\n",
              "    .dataframe tbody tr th {\n",
              "        vertical-align: top;\n",
              "    }\n",
              "\n",
              "    .dataframe thead th {\n",
              "        text-align: right;\n",
              "    }\n",
              "</style>\n",
              "<table border=\"1\" class=\"dataframe\">\n",
              "  <thead>\n",
              "    <tr style=\"text-align: right;\">\n",
              "      <th></th>\n",
              "      <th>DataBreachCause_infrequent_sklearn</th>\n",
              "      <th>IndustryType_infrequent_sklearn</th>\n",
              "      <th>BusinessType_infrequent_sklearn</th>\n",
              "    </tr>\n",
              "  </thead>\n",
              "  <tbody>\n",
              "    <tr>\n",
              "      <th>2497</th>\n",
              "      <td>0.0</td>\n",
              "      <td>0.0</td>\n",
              "      <td>1.0</td>\n",
              "    </tr>\n",
              "    <tr>\n",
              "      <th>1225</th>\n",
              "      <td>0.0</td>\n",
              "      <td>0.0</td>\n",
              "      <td>1.0</td>\n",
              "    </tr>\n",
              "    <tr>\n",
              "      <th>2242</th>\n",
              "      <td>1.0</td>\n",
              "      <td>0.0</td>\n",
              "      <td>1.0</td>\n",
              "    </tr>\n",
              "    <tr>\n",
              "      <th>2201</th>\n",
              "      <td>0.0</td>\n",
              "      <td>1.0</td>\n",
              "      <td>0.0</td>\n",
              "    </tr>\n",
              "    <tr>\n",
              "      <th>553</th>\n",
              "      <td>1.0</td>\n",
              "      <td>1.0</td>\n",
              "      <td>0.0</td>\n",
              "    </tr>\n",
              "  </tbody>\n",
              "</table>\n",
              "</div>"
            ],
            "text/plain": [
              "      DataBreachCause_infrequent_sklearn  IndustryType_infrequent_sklearn  \\\n",
              "2497                                 0.0                              0.0   \n",
              "1225                                 0.0                              0.0   \n",
              "2242                                 1.0                              0.0   \n",
              "2201                                 0.0                              1.0   \n",
              "553                                  1.0                              1.0   \n",
              "\n",
              "      BusinessType_infrequent_sklearn  \n",
              "2497                              1.0  \n",
              "1225                              1.0  \n",
              "2242                              1.0  \n",
              "2201                              0.0  \n",
              "553                               0.0  "
            ]
          },
          "execution_count": 72,
          "metadata": {},
          "output_type": "execute_result"
        }
      ],
      "source": [
        "# Transform the categorical features in the test dataset using the encoder\n",
        "X_test_cat_ohe=pd.DataFrame(encoder.transform(X_test_cat),\n",
        "                            columns=encoder.get_feature_names_out(X_test_cat.columns),\n",
        "                            index=X_test_cat.index)\n",
        "\n",
        "X_test_cat_ohe.head()"
      ]
    },
    {
      "cell_type": "code",
      "execution_count": null,
      "id": "5b84ecfd",
      "metadata": {
        "id": "5b84ecfd",
        "outputId": "c2e0fe1d-4a6f-4522-c1f1-524d538289a5"
      },
      "outputs": [
        {
          "data": {
            "text/plain": [
              "1005"
            ]
          },
          "execution_count": 73,
          "metadata": {},
          "output_type": "execute_result"
        }
      ],
      "source": [
        "# concatinated the above tables\n",
        "X_test_transformed=pd.concat([X_test_num_rescaled, X_test_cat_ohe],axis=1)\n",
        "len(X_test_transformed) # length of the concatenated data"
      ]
    },
    {
      "cell_type": "code",
      "execution_count": null,
      "id": "b0e64246",
      "metadata": {
        "scrolled": true,
        "id": "b0e64246",
        "outputId": "19bf9f17-f3d1-4df2-96c8-d0d2551a9ee6"
      },
      "outputs": [
        {
          "name": "stderr",
          "output_type": "stream",
          "text": [
            "C:\\Users\\hp\\anaconda3\\lib\\site-packages\\sklearn\\neighbors\\_classification.py:237: FutureWarning: Unlike other reduction functions (e.g. `skew`, `kurtosis`), the default behavior of `mode` typically preserves the axis it acts along. In SciPy 1.11.0, this behavior will change: the default value of `keepdims` will become False, the `axis` over which the statistic is taken will be eliminated, and the value None will no longer be accepted. Set `keepdims` to True or False to avoid this warning.\n",
            "  mode, _ = stats.mode(_y[neigh_ind, k], axis=1)\n"
          ]
        },
        {
          "name": "stdout",
          "output_type": "stream",
          "text": [
            "**************************************************\n",
            "**************************************************\n",
            "Accuracy : 0.8437810945273632\n",
            "**************************************************\n"
          ]
        },
        {
          "data": {
            "image/png": "[encoded data removed]",
            "text/plain": [
              "<Figure size 640x480 with 2 Axes>"
            ]
          },
          "metadata": {},
          "output_type": "display_data"
        }
      ],
      "source": [
        "# Import the KNeighborsClassifier class from scikit-learn and create an instance of it.\n",
        "from sklearn.neighbors import KNeighborsClassifier\n",
        "classifier = KNeighborsClassifier()\n",
        "\n",
        "# Fit the KNeighborsClassifier model on the transformed training data\n",
        "classifier.fit(X_train_transformed, y_train)\n",
        "\n",
        "# Use the trained classifier to make predictions on the transformed test data\n",
        "y_test_pred=classifier.predict(X_test_transformed)\n",
        "\n",
        "print('*'*50)\n",
        "\n",
        "# to display the actual and predicted labels in the test dataset\n",
        "temp_df=pd.DataFrame({\"Actual\":y_test,\"predicted\":y_test_pred})\n",
        "temp_df\n",
        "\n",
        "print('*'*50)\n",
        "\n",
        "# Calculate and print the accuracy of the classifier on the test data.\n",
        "print(\"Accuracy :\",metrics.accuracy_score(y_test,y_test_pred))\n",
        "\n",
        "print('*'*50)\n",
        "\n",
        "sns.heatmap(metrics.confusion_matrix(y_test, y_test_pred), annot=True, fmt='d')\n",
        "plt.title(\"Confusion Matrix\")\n",
        "plt.show()"
      ]
    },
    {
      "cell_type": "code",
      "execution_count": null,
      "id": "7544c86f",
      "metadata": {
        "id": "7544c86f",
        "outputId": "1d468535-78a2-410d-e712-129edb8eae1b"
      },
      "outputs": [
        {
          "name": "stdout",
          "output_type": "stream",
          "text": [
            "**************************************************\n",
            "**************************************************\n",
            "Accuracy:  0.6746268656716418\n",
            "**************************************************\n"
          ]
        },
        {
          "data": {
            "image/png": "[encoded data removed]",
            "text/plain": [
              "<Figure size 640x480 with 2 Axes>"
            ]
          },
          "metadata": {},
          "output_type": "display_data"
        }
      ],
      "source": [
        "# Import the Logistic regression class from scikit-learn and create an instance of it.\n",
        "from sklearn.linear_model import LogisticRegression\n",
        "classifier = LogisticRegression()\n",
        "\n",
        "# Fit the Logisitic Regression model on the transformed training data\n",
        "classifier.fit(X_train_transformed, y_train)\n",
        "\n",
        "# Use the trained classifier to make predictions on the transformed test data\n",
        "y_test_pred=classifier.predict(X_test_transformed)\n",
        "\n",
        "print('*'*50)\n",
        "\n",
        "# to display the actual and predicted labels in the test dataset\n",
        "temp_df = pd.DataFrame({'Actual': y_test, 'Predicted': y_test_pred})\n",
        "temp_df.head(10)\n",
        "\n",
        "print('*'*50)\n",
        "\n",
        "# Calculate and print the accuracy of the classifier on the test data.\n",
        "print('Accuracy: ', metrics.accuracy_score(y_test, y_test_pred))\n",
        "\n",
        "print('*'*50)\n",
        "\n",
        "sns.heatmap(metrics.confusion_matrix(y_test, y_test_pred), annot=True, fmt='d')\n",
        "plt.title(\"Confusion Matrix\");\n",
        "plt.show()"
      ]
    },
    {
      "cell_type": "code",
      "execution_count": null,
      "id": "47576f1b",
      "metadata": {
        "id": "47576f1b",
        "outputId": "c93035b9-98d8-4e07-c8f2-0b035a270d0d"
      },
      "outputs": [
        {
          "name": "stdout",
          "output_type": "stream",
          "text": [
            "**************************************************\n",
            "**************************************************\n",
            "Accuracy : 0.9830845771144279\n",
            "**************************************************\n"
          ]
        },
        {
          "data": {
            "image/png": "[encoded data removed]",
            "text/plain": [
              "<Figure size 640x480 with 2 Axes>"
            ]
          },
          "metadata": {},
          "output_type": "display_data"
        }
      ],
      "source": [
        "# Import the Decison Tree class from scikit-learn and create an instance of it.\n",
        "from sklearn.tree import DecisionTreeClassifier\n",
        "classifier = DecisionTreeClassifier()\n",
        "\n",
        "# Fit the Decison Tree model on the transformed training data\n",
        "classifier.fit(X_train_transformed, y_train)\n",
        "\n",
        "# Use the trained cassifier to make predictions on the transformed test data\n",
        "y_test_pred=classifier.predict(X_test_transformed)\n",
        "\n",
        "print('*'*50)\n",
        "\n",
        "# to display the actual and predicted labels in the test dataset\n",
        "temp_df=pd.DataFrame({\"Actual\":y_test,\"predicted\":y_test_pred})\n",
        "temp_df.head(10)\n",
        "\n",
        "print('*'*50)\n",
        "\n",
        "# Calculate and print the accuracy of the classifier on the test data.\n",
        "print(\"Accuracy :\",metrics.accuracy_score(y_test,y_test_pred))\n",
        "\n",
        "print('*'*50)\n",
        "\n",
        "\n",
        "sns.heatmap(metrics.confusion_matrix(y_test, y_test_pred), annot=True, fmt='d')\n",
        "\n",
        "plt.title(\"Confusion Matrix\")\n",
        "plt.show()"
      ]
    },
    {
      "cell_type": "code",
      "execution_count": null,
      "id": "6b1b3ad6",
      "metadata": {
        "id": "6b1b3ad6",
        "outputId": "6b5fbfa1-3364-4648-cdf4-a75a06621da9"
      },
      "outputs": [
        {
          "name": "stdout",
          "output_type": "stream",
          "text": [
            "**************************************************\n",
            "**************************************************\n",
            "Accuracy : 0.9860696517412936\n",
            "**************************************************\n"
          ]
        },
        {
          "data": {
            "image/png": "[encoded data removed]",
            "text/plain": [
              "<Figure size 640x480 with 2 Axes>"
            ]
          },
          "metadata": {},
          "output_type": "display_data"
        }
      ],
      "source": [
        "from sklearn.ensemble import RandomForestClassifier\n",
        "classifier = RandomForestClassifier()\n",
        "\n",
        "# Fit the Random Forest model on the transformed training data\n",
        "classifier.fit(X_train_transformed, y_train)\n",
        "\n",
        "# Use the trained classifier to make predictions on the transformed test data\n",
        "y_test_pred=classifier.predict(X_test_transformed)\n",
        "\n",
        "print('*'*50)\n",
        "\n",
        "# to display the actual and predicted labels in the test dataset\n",
        "temp_df=pd.DataFrame({\"Actual\":y_test,\"predicted\":y_test_pred})\n",
        "temp_df.head(10)\n",
        "\n",
        "print('*'*50)\n",
        "\n",
        "# Calculate and print the accuracy of the classifier on the test data.\n",
        "print(\"Accuracy :\",metrics.accuracy_score(y_test,y_test_pred))\n",
        "\n",
        "print('*'*50)\n",
        "\n",
        "sns.heatmap(metrics.confusion_matrix(y_test, y_test_pred), annot=True, fmt='d')\n",
        "plt.title(\"Confusion Matrix\")\n",
        "plt.show()"
      ]
    },
    {
      "cell_type": "code",
      "execution_count": null,
      "id": "b2947610",
      "metadata": {
        "id": "b2947610",
        "outputId": "1d6f97bc-c862-437c-f0af-97f848ed4a5e"
      },
      "outputs": [
        {
          "name": "stdout",
          "output_type": "stream",
          "text": [
            "**************************************************\n",
            "0.9860696517412936\n",
            "**************************************************\n"
          ]
        },
        {
          "data": {
            "image/png": "[encoded data removed]",
            "text/plain": [
              "<Figure size 640x480 with 2 Axes>"
            ]
          },
          "metadata": {},
          "output_type": "display_data"
        }
      ],
      "source": [
        "# Import the XGBClassifier class from scikit-learn and create an instance of it.\n",
        "from xgboost import XGBClassifier\n",
        "model_xgb = XGBClassifier()\n",
        "\n",
        "# Fit the XGB model on the transformed training data\n",
        "model_xgb.fit(X_train_transformed, y_train)\n",
        "\n",
        "# Use the trained classifier to make predictions on the transformed test data\n",
        "y_test_pred = model_xgb.predict(X_test_transformed)\n",
        "\n",
        "print('*'*50)\n",
        "\n",
        "# Calculate and print the accuracy of the classifier on the test data.\n",
        "print(metrics.accuracy_score(y_test,y_test_pred))\n",
        "\n",
        "print('*'*50)\n",
        "sns.heatmap(metrics.confusion_matrix(y_test, y_test_pred), annot=True, fmt='d')\n",
        "plt.title(\"Confusion Matrix\")\n",
        "plt.show()"
      ]
    },
    {
      "cell_type": "code",
      "execution_count": null,
      "id": "9c3ae9fc",
      "metadata": {
        "id": "9c3ae9fc",
        "outputId": "e4b59eaf-06e6-4bc5-e1a0-282a5b96e0f7"
      },
      "outputs": [
        {
          "name": "stdout",
          "output_type": "stream",
          "text": [
            "**************************************************\n",
            "0.7154228855721393\n",
            "**************************************************\n"
          ]
        },
        {
          "data": {
            "image/png": "[encoded data removed]",
            "text/plain": [
              "<Figure size 640x480 with 2 Axes>"
            ]
          },
          "metadata": {},
          "output_type": "display_data"
        }
      ],
      "source": [
        "# Import the SVC class from scikit-learn and create an instance of it.\n",
        "\n",
        "from sklearn.svm import SVC\n",
        "classifier = SVC()\n",
        "\n",
        "# Fit the SVM model on the transformed training data\n",
        "classifier.fit(X_train_transformed, y_train)\n",
        "\n",
        "# Use the trained classifier to make predictions on the transformed test data\n",
        "y_test_pred = classifier.predict(X_test_transformed)\n",
        "\n",
        "print ('*'*50)\n",
        "\n",
        "# Calculate and print the accuracy of the classifier on the test data.\n",
        "print(metrics.accuracy_score(y_test, y_test_pred))\n",
        "\n",
        "print ('*'*50)\n",
        "\n",
        "sns.heatmap(metrics.confusion_matrix(y_test, y_test_pred), annot=True, fmt='d')\n",
        "plt.title(\"Confusion Matrix\")\n",
        "plt.show()"
      ]
    }
  ],
  "metadata": {
    "kernelspec": {
      "display_name": "Python 3 (ipykernel)",
      "language": "python",
      "name": "python3"
    },
    "language_info": {
      "codemirror_mode": {
        "name": "ipython",
        "version": 3
      },
      "file_extension": ".py",
      "mimetype": "text/x-python",
      "name": "python",
      "nbconvert_exporter": "python",
      "pygments_lexer": "ipython3",
      "version": "3.9.13"
    },
    "colab": {
      "provenance": []
    }
  },
  "nbformat": 4,
  "nbformat_minor": 5
}